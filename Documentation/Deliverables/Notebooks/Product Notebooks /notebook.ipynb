{
 "cells": [
  {
   "cell_type": "markdown",
   "metadata": {},
   "source": [
    "# C# for Jupyter Notebooks\n",
    "<img style=\"float: right;\" src=\"https://github.com/fsharp/fsfoundation/raw/gh-pages/img/logo/fsharp256.png\">\n",
    "\n",
    "F# is an open-source and cross-platform language which excels at succinct, correct and maintainable code. F# is used for [data scripting](https://fsharpforfunandprofit.com/posts/low-risk-ways-to-use-fsharp-at-work-2/), [data science](http://fslab.org), [web programming](http://fsharp.org/guides/web/) and component development. It interoperates with a wide range of software libraries and tools and all .NET and C# libraries can be used directly from F#.  A key characteristic of F# is that you can use it from small-scale scripting and development to large-scale software delivery. \n",
    "\n",
    "F# is well suited for literate programming using Azure and Jupyter notebooks because declarations are ordered in a script-like way. This notebook assumes you are familiar with some programming already. However, the examples are kept simple, so if you are just learning F#, that's fine too! There are lots of excellent [F# learning resources](http://fsharp.org/learn.html) available online. The [F# Cheetsheet](https://dungpa.github.io/fsharp-cheatsheet/) is a quick guide. \n",
    "\n",
    "F# is supported by the [F# Software Foundation](http://fsharp.org) and a worldwide community of contributors. Microsoft and other companies develop professional tooling for F#. The [F# Language Reference](https://docs.microsoft.com/en-us/dotnet/articles/fsharp/) is a reference for the F# language, and the [F# Guide](https://docs.microsoft.com/en-us/dotnet/articles/fsharp/) covers general topics.  [F# on Azure](https://docs.microsoft.com/en-us/dotnet/articles/fsharp/using-fsharp-on-azure/) is a technical guide for using F# in conjunction with a range of Azure services.\n",
    "\n",
    "To learn more about how to use Jupyter notebooks, see [the Jupyter documentation](http://jupyter-notebook.readthedocs.io/) and the [Jupyter keyboard shortcuts](https://www.cheatography.com/weidadeyue/cheat-sheets/jupyter-notebook/). You can install the F# and Jupyter tooling locally using [IfSharp](https://github.com/fsprojects/IfSharp).\n",
    "\n",
    "This notebook demonstrates the features of the C# kernel for Jupyter Notebook.\n",
    "\n",
    "\n",
    "# Introduction #\n",
    "\n",
    "### Hello world! (MS guide)\n",
    "\n",
    "In the Hello world example, you'll create the most basic C# program. You'll explore the string type and how to work with text."
   ]
  },
  {
   "cell_type": "code",
   "execution_count": null,
   "metadata": {},
   "outputs": [],
   "source": [
    "Console.WriteLine(\"Hello World!\");"
   ]
  },
  {
   "cell_type": "markdown",
   "metadata": {},
   "source": [
    "# Numbers in C# \n",
    "\n",
    "This tutorial teaches you about the number types in C# interactively. You'll write small amounts of code, then you'll compile and run that code. The tutorial contains a series of lessons that explore numbers and math operations in C#. These lessons teach you the fundamentals of the C# language.\n",
    "\n",
    "This tutorial expects you to have a machine you can use for development. The .NET topic [Get Started in 10 minutes](https://www.microsoft.com/net/core) has instructions for setting up your local development environment on Mac, PC or Linux. A quick overview of the commands you'll use is in the [introduction to the local quickstarts](local-environment.md) with links to more details.\n",
    "\n",
    "## Explore integer math\n",
    "\n"
   ]
  },
  {
   "cell_type": "code",
   "execution_count": null,
   "metadata": {
    "attributes": {
     "classes": [
      "csharp"
     ],
     "id": ""
    }
   },
   "outputs": [],
   "source": [
    "int a = 18;\n",
    "int b = 6;\n",
    "int c = a + b;\n",
    "Console.WriteLine(c);"
   ]
  },
  {
   "cell_type": "markdown",
   "metadata": {},
   "source": [
    "\n",
    "You've just seen one of the fundamental math operations with integers. The `int` type represents an **integer**, a positive or negative whole number. You use the `+` symbol for addition. Other common mathematical operations for integers include:\n",
    "\n",
    "- `-` for subtraction\n",
    "- `*` for multiplication\n",
    "- `/` for division\n",
    "\n",
    "Start by exploring those different operations. Add these lines after the line that writes the value of `c`:"
   ]
  },
  {
   "cell_type": "code",
   "execution_count": null,
   "metadata": {
    "attributes": {
     "classes": [
      "csharp"
     ],
     "id": ""
    }
   },
   "outputs": [],
   "source": [
    "c = a - b;\n",
    "Console.WriteLine(c);\n",
    "c = a * b;\n",
    "Console.WriteLine(c);\n",
    "c = a / b;\n",
    "Console.WriteLine(c);"
   ]
  },
  {
   "cell_type": "markdown",
   "metadata": {},
   "source": [
    "    \n",
    "You can also experiment by performing multiple mathematics operations in the same line, if you'd like. Try `c = a + b - 12 * 17;` for example. Mixing variables and constant numbers is allowed.\n",
    "\n",
    "> [!TIP]\n",
    "> As you explore C# (or any programming language), you'll\n",
    "> make mistakes when you write code. The **compiler** will\n",
    "> find those errors and report them to you. When the output\n",
    "> contains error messages, look closely at the example code\n",
    "> and the code in your window to see what to fix.\n",
    "> That exercise will help you learn the structure of C# code.     \n",
    "\n",
    "You've finished the first step. Before you start the next section, let's move the current code into a separate method. That makes it easier to start working with a new example. Rename your `Main` method to `WorkingWithIntegers` and write a new `Main` method that calls `WorkingWithIntegers`. When you have finished, your code should look like this:"
   ]
  },
  {
   "cell_type": "code",
   "execution_count": null,
   "metadata": {
    "attributes": {
     "classes": [
      "csharp"
     ],
     "id": ""
    }
   },
   "outputs": [],
   "source": [
    "using System;\n",
    "\n",
    "namespace NumbersInCSharp\n",
    "{\n",
    "    class Program\n",
    "    {\n",
    "        static void WorkingWithIntegers()\n",
    "        {\n",
    "            int a = 18;\n",
    "            int b = 6;\n",
    "            int c = a + b;\n",
    "            Console.WriteLine(c);\n",
    "            c = a - b;\n",
    "            Console.WriteLine(c);\n",
    "            c = a * b;\n",
    "            Console.WriteLine(c);\n",
    "            c = a / b;\n",
    "            Console.WriteLine(c);\n",
    "        }\n",
    "\n",
    "        static void Main(string[] args)\n",
    "        {\n",
    "            WorkingWithIntegers();\n",
    "        }\n",
    "    }\n",
    "}"
   ]
  },
  {
   "cell_type": "markdown",
   "metadata": {},
   "source": [
    "## Explore order of operations\n",
    "\n",
    "Comment out the call to `WorkingWithIntegers()`. It will make the output less cluttered as you work in this section:"
   ]
  },
  {
   "cell_type": "code",
   "execution_count": null,
   "metadata": {
    "attributes": {
     "classes": [
      "csharp"
     ],
     "id": ""
    }
   },
   "outputs": [],
   "source": [
    "//WorkingWithIntegers();"
   ]
  },
  {
   "cell_type": "markdown",
   "metadata": {},
   "source": [
    "The `//` starts a **comment** in C#. Comments are any text you want to keep in your source code but not execute as code. The compiler does not generate any executable code from comments.\n",
    "\n",
    "The C# language defines the precedence of different mathematics operations\n",
    "with rules consistent with the rules you learned in mathematics.\n",
    "Multiplication and division take precedence over addition and subtraction."
   ]
  },
  {
   "cell_type": "code",
   "execution_count": null,
   "metadata": {
    "attributes": {
     "classes": [
      "csharp"
     ],
     "id": ""
    }
   },
   "outputs": [],
   "source": [
    "int a = 5;\n",
    "int b = 4;\n",
    "int c = 2;\n",
    "int d = a + b * c;\n",
    "Console.WriteLine(d);\n",
    " ```\n",
    "\n",
    "The output demonstrates that the multiplication is performed before the addition.\n",
    "\n",
    "You can force a different order of operation by adding parentheses around\n",
    "the operation or operations you want performed first. Add the following\n",
    "lines and run again:\n",
    "\n",
    "```csharp\n",
    "d = (a  + b) * c;\n",
    "Console.WriteLine(d);"
   ]
  },
  {
   "cell_type": "markdown",
   "metadata": {},
   "source": [
    "Explore more by combining many different operations. Add something like\n",
    "the following lines at the bottom of your `Main` method."
   ]
  },
  {
   "cell_type": "code",
   "execution_count": null,
   "metadata": {
    "attributes": {
     "classes": [
      "csharp"
     ],
     "id": ""
    }
   },
   "outputs": [],
   "source": [
    "d = (a + b) - 6 * c + (12 * 4) / 3 + 12;\n",
    "Console.WriteLine(d);"
   ]
  },
  {
   "cell_type": "markdown",
   "metadata": {},
   "source": [
    "You may have noticed an interesting behavior for integers. Integer\n",
    "division always produces an integer result, even when you'd expect the result to include a decimal or fractional portion.\n",
    "\n",
    "If you haven't seen this behavior, try the following code at the end\n",
    "of your `Main` method:"
   ]
  },
  {
   "cell_type": "code",
   "execution_count": null,
   "metadata": {
    "attributes": {
     "classes": [
      "csharp"
     ],
     "id": ""
    }
   },
   "outputs": [],
   "source": [
    "int e = 7;\n",
    "int f = 4;\n",
    "int g = 3;\n",
    "int h = (e  + f) / g;\n",
    "Console.WriteLine(h);"
   ]
  },
  {
   "cell_type": "markdown",
   "metadata": {},
   "source": [
    "Before moving on, let's take all the code you've written in this\n",
    "section and put it in a new method. Call that new method `OrderPrecedence`.\n",
    "You should end up with something like this:"
   ]
  },
  {
   "cell_type": "code",
   "execution_count": null,
   "metadata": {
    "attributes": {
     "classes": [
      "csharp"
     ],
     "id": ""
    }
   },
   "outputs": [],
   "source": [
    "using System;\n",
    "\n",
    "namespace NumbersInCSharp\n",
    "{\n",
    "    class Program\n",
    "    {\n",
    "        static void WorkingWithIntegers()\n",
    "        {\n",
    "            int a = 18;\n",
    "            int b = 6;\n",
    "            int c = a + b;\n",
    "            Console.WriteLine(c);\n",
    "            c = a - b;\n",
    "            Console.WriteLine(c);\n",
    "            c = a * b;\n",
    "            Console.WriteLine(c);\n",
    "            c = a / b;\n",
    "            Console.WriteLine(c);\n",
    "        }\n",
    "\n",
    "        static void OrderPrecedence()\n",
    "        {   \n",
    "            int a = 5;\n",
    "            int b = 4;\n",
    "            int c = 2;\n",
    "            int d = a + b * c;\n",
    "            Console.WriteLine(d);\n",
    "\n",
    "            d = (a  + b) * c;\n",
    "            Console.WriteLine(d);\n",
    "\n",
    "            d = (a + b) - 6 * c + (12 * 4) / 3 + 12;\n",
    "            Console.WriteLine(d);\n",
    "\n",
    "            int e = 7;\n",
    "            int f = 4;\n",
    "            int g = 3;\n",
    "            int h = (e  + f) / g;\n",
    "            Console.WriteLine(h);\n",
    "        }\n",
    "\n",
    "        static void Main(string[] args)\n",
    "        {\n",
    "            WorkingWithIntegers();\n",
    "\n",
    "            OrderPrecedence();\n",
    "\n",
    "        }\n",
    "    }\n",
    "}"
   ]
  },
  {
   "cell_type": "markdown",
   "metadata": {},
   "source": [
    "## Explore integer precision and limits\n",
    "That last sample showed you that integer division truncates the result.\n",
    "You can get the **remainder** by using the **modulo** operator, the `%` character. Try the following code in your `Main` method:"
   ]
  },
  {
   "cell_type": "code",
   "execution_count": null,
   "metadata": {
    "attributes": {
     "classes": [
      "csharp"
     ],
     "id": ""
    }
   },
   "outputs": [],
   "source": [
    "int a = 7;\n",
    "int b = 4;\n",
    "int c = 3;\n",
    "int d = (a  + b) / c;\n",
    "int e = (a + b) % c;\n",
    "Console.WriteLine($\"quotient: {d}\");\n",
    "Console.WriteLine($\"remainder: {e}\");"
   ]
  },
  {
   "cell_type": "markdown",
   "metadata": {},
   "source": [
    "The C# integer type differs from mathematical integers in one other\n",
    "way: the `int` type has minimum and maximum limits. Add this code to\n",
    "your `Main` method to see those limits:"
   ]
  },
  {
   "cell_type": "code",
   "execution_count": null,
   "metadata": {
    "attributes": {
     "classes": [
      "csharp"
     ],
     "id": ""
    }
   },
   "outputs": [],
   "source": [
    "int max = int.MaxValue;\n",
    "int min = int.MinValue;\n",
    "Console.WriteLine($\"The range of integers is {min} to {max}\");"
   ]
  },
  {
   "cell_type": "markdown",
   "metadata": {},
   "source": [
    "If a calculation produces a value that exceeds those limits, you\n",
    "have an **underflow** or **overflow** condition. The answer appears\n",
    "to wrap from one limit to the other. Add these two lines to your `Main`\n",
    "method to see an example:"
   ]
  },
  {
   "cell_type": "code",
   "execution_count": null,
   "metadata": {
    "attributes": {
     "classes": [
      "csharp"
     ],
     "id": ""
    }
   },
   "outputs": [],
   "source": [
    "int what = max + 3;\n",
    "Console.WriteLine($\"An example of overflow: {what}\");"
   ]
  },
  {
   "cell_type": "markdown",
   "metadata": {},
   "source": [
    "Notice that the answer is very close to the minimum (negative) integer. It's\n",
    "the same as `min + 2`. \n",
    "The addition operation **overflowed** the allowed values for integers.\n",
    "The answer is a very large negative number because an overflow \"wraps around\"\n",
    "from the largest possible integer value to the smallest.\n",
    "\n",
    "There are other numeric types with different limits and precision that you\n",
    "would use when the `int` type doesn't meet your needs. Let's explore those next.\n",
    "\n",
    "Once again, let's move the code you wrote in this section into a separate method. Name it `TestLimits`. \n",
    "\n",
    "## Work with the double type\n",
    "\n",
    "The `double` numeric type represents a double-precision floating point\n",
    "number. Those terms may be new to you. A **floating point** number is\n",
    "useful to represent non-integral numbers that may be very large or small\n",
    "in magnitude. **Double-precision** means that these numbers are stored\n",
    "using greater precision than **single-precision**. On modern computers,\n",
    "it is more common to use double precision than single precision numbers.\n",
    "Let's explore. Add the following code and see the result:"
   ]
  },
  {
   "cell_type": "code",
   "execution_count": null,
   "metadata": {
    "attributes": {
     "classes": [
      "csharp"
     ],
     "id": ""
    }
   },
   "outputs": [],
   "source": [
    "double a = 5;\n",
    "double b = 4;\n",
    "double c = 2;\n",
    "double d = (a  + b) / c;\n",
    "Console.WriteLine(d);"
   ]
  },
  {
   "cell_type": "markdown",
   "metadata": {},
   "source": [
    "Notice that the answer includes the decimal portion of the quotient. Try a slightly\n",
    "more complicated expression with doubles:"
   ]
  },
  {
   "cell_type": "code",
   "execution_count": null,
   "metadata": {
    "attributes": {
     "classes": [
      "csharp"
     ],
     "id": ""
    }
   },
   "outputs": [],
   "source": [
    "double e = 19;\n",
    "double f = 23;\n",
    "double g = 8;\n",
    "double h = (e  + f) / g;\n",
    "Console.WriteLine(h);"
   ]
  },
  {
   "cell_type": "markdown",
   "metadata": {},
   "source": [
    "The range of a double value is much greater than integer values. Try the following\n",
    "code below what you've written so far:"
   ]
  },
  {
   "cell_type": "code",
   "execution_count": null,
   "metadata": {
    "attributes": {
     "classes": [
      "csharp"
     ],
     "id": ""
    }
   },
   "outputs": [],
   "source": [
    "double max = double.MaxValue;\n",
    "double min = double.MinValue;\n",
    "Console.WriteLine($\"The range of double is {min} to {max}\");"
   ]
  },
  {
   "cell_type": "markdown",
   "metadata": {},
   "source": [
    "These values are printed out in scientific notation. The number to\n",
    "the left of the `E` is the significand. The number to the right is the exponent,\n",
    "as a power of 10. \n",
    "\n",
    "Just like decimal numbers in math, doubles in C# can have rounding errors. Try this code:"
   ]
  },
  {
   "cell_type": "code",
   "execution_count": null,
   "metadata": {
    "attributes": {
     "classes": [
      "csharp"
     ],
     "id": ""
    }
   },
   "outputs": [],
   "source": [
    "double third = 1.0 / 3.0;\n",
    "Console.WriteLine(third);"
   ]
  },
  {
   "cell_type": "markdown",
   "metadata": {},
   "source": [
    "You know that `0.3` repeating is not exactly the same as `1/3`.\n",
    "\n",
    "***Challenge***\n",
    "\n",
    "Try other calculations with large numbers, small numbers, multiplication\n",
    "and division using the `double` type.  Try more complicated calculations.\n",
    "\n",
    "After you've spent some time with the challenge, take the code you've written\n",
    "and place it in a new method. Name that new method `WorkWithDoubles`.\n",
    "\n",
    "## Work with fixed point types\n",
    "\n",
    "You've seen the basic numeric types in C#: integers and doubles.  There is one\n",
    "other type to learn: the `decimal` type. The `decimal` type has a smaller\n",
    "range but greater precision than `double`. The term **fixed point** means\n",
    "that the decimal point (or binary point) doesn't move. Let's take a look:"
   ]
  },
  {
   "cell_type": "code",
   "execution_count": null,
   "metadata": {
    "attributes": {
     "classes": [
      "csharp"
     ],
     "id": ""
    }
   },
   "outputs": [],
   "source": [
    "decimal min = decimal.MinValue;\n",
    "decimal max = decimal.MaxValue;\n",
    "Console.WriteLine($\"The range of the decimal type is {min} to {max}\");"
   ]
  },
  {
   "cell_type": "markdown",
   "metadata": {},
   "source": [
    "Notice that the range is smaller than the `double` type. You can see the greater\n",
    "precision with the decimal type by trying the following code:"
   ]
  },
  {
   "cell_type": "code",
   "execution_count": null,
   "metadata": {
    "attributes": {
     "classes": [
      "csharp"
     ],
     "id": ""
    }
   },
   "outputs": [],
   "source": [
    "double a = 1.0;\n",
    "double b = 3.0;\n",
    "Console.WriteLine(a / b);\n",
    "\n",
    "decimal c = 1.0M;\n",
    "decimal d = 3.0M;\n",
    "Console.WriteLine(c / d);"
   ]
  },
  {
   "cell_type": "markdown",
   "metadata": {},
   "source": [
    "The `M` suffix on the numbers is how you indicate that a constant should use the\n",
    "`decimal` type.\n",
    "\n",
    "Notice that the math using the decimal type has more digits to the right\n",
    "of the decimal point. \n",
    "\n",
    "***Challenge***\n",
    "\n",
    "Now that you've seen the different numeric types, write code that calculates\n",
    "the area of a circle whose radius is 2.50 centimeters. Remember that the area of a circle\n",
    "is the radius squared multiplied by PI. One hint: .NET contains a constant\n",
    "for PI, <xref:System.Math.PI?displayProperty=nameWithType> that you can use for that value. \n",
    "\n",
    "You should get an answer between 19 and 20.\n",
    "You can check your answer by [looking at the finished sample code on GitHub](https://github.com/dotnet/samples/tree/master/csharp/numbers-quickstart/Program.cs#L104-L106)\n",
    "\n",
    "Try some other formulas if you'd like. \n",
    "\n",
    "You've completed the \"Numbers in C#\" quickstart. You can continue with\n",
    "the [Branches and loops](branches-and-loops-local.md) quickstart in\n",
    "your own development environment.\n",
    "\n",
    "You can learn more about numbers in C# in the following topics:\n",
    "\n",
    "[Integral Types Table](../language-reference/keywords/integral-types-table.md)   \n",
    "[Floating-Point Types Table](../language-reference/keywords/floating-point-types-table.md)   \n",
    "[Built-In Types Table](../language-reference/keywords/built-in-types-table.md)   \n",
    "[Implicit Numeric Conversions Table](../language-reference/keywords/implicit-numeric-conversions-table.md)   \n",
    "[Explicit Numeric Conversions Table](../language-reference/keywords/explicit-numeric-conversions-table.md)"
   ]
  },
  {
   "cell_type": "markdown",
   "metadata": {},
   "source": [
    "---\n",
    "# Branches and loops\n",
    "\n",
    "This quickstart teaches you how to write code that examines variables and changes the execution path based on those variables. You write C# code and see the results of compiling and running it. The quickstart contains a series of lessons that explore branching and looping constructs in C#. These lessons teach you the fundamentals of the C# language.\n",
    "\n",
    "This quickstart expects you to have a machine you can use for development. The .NET topic [Get Started in 10 minutes](https://www.microsoft.com/net/core) has instructions for setting up your local development environment on Mac, PC or Linux. A quick overview of the commands you'll use is in the [introduction to the local quickstarts](local-environment.md) with links to more details.\n",
    "\n",
    "## Make decisions using the `if` statement\n",
    "\n"
   ]
  },
  {
   "cell_type": "code",
   "execution_count": null,
   "metadata": {
    "attributes": {
     "classes": [
      "csharp"
     ],
     "id": ""
    }
   },
   "outputs": [],
   "source": [
    "int a = 5;\n",
    "int b = 6;\n",
    "if (a + b > 10)\n",
    "    Console.WriteLine(\"The answer is greater than 10.\");"
   ]
  },
  {
   "cell_type": "markdown",
   "metadata": {},
   "source": [
    "Try this code by running the code in the your console window. You should see the message \"The answer is greater than 10.\" printed to your console.\n",
    "\n",
    "Modify the declaration of `b` so that the sum is less than 10:"
   ]
  },
  {
   "cell_type": "code",
   "execution_count": null,
   "metadata": {
    "attributes": {
     "classes": [
      "csharp"
     ],
     "id": ""
    }
   },
   "outputs": [],
   "source": [
    "int b = 3;"
   ]
  },
  {
   "cell_type": "markdown",
   "metadata": {},
   "source": [
    "Because the answer is less than 10, nothing is printed. The **condition** you're testing is false. You don't have any code to execute because you've only\n",
    "written one of the possible branches for an `if` statement: the true branch.\n",
    "\n",
    "> [!TIP]\n",
    "> As you explore C# (or any programming language), you'll\n",
    "> make mistakes when you write code. The compiler will\n",
    "> find and report the errors. Look closely at the error \n",
    "> output and the code that generated the error. The compiler\n",
    "> error can usually help you find the problem.\n",
    "\n",
    "This first sample shows the power of `if` and Boolean types. A *Boolean* is a variable that can have one of two values: `true` or `false`. C# defines a special type, `bool` for Boolean variables. The `if` statement checks the value of a `bool`. When the value is `true`, the statement following the `if` executes. Otherwise, it is skipped.\n",
    "\n",
    "This process of checking conditions and executing statements based on those conditions is very powerful.\n",
    "\n",
    "## Make if and else work together\n",
    "\n",
    "To execute different code in both the true and false branches, you \n",
    "create an `else` branch that executes when the condition is false. Try this. Add the last two lines in the code below to your `Main` method (you should already have the first four):"
   ]
  },
  {
   "cell_type": "code",
   "execution_count": null,
   "metadata": {
    "attributes": {
     "classes": [
      "csharp"
     ],
     "id": ""
    }
   },
   "outputs": [],
   "source": [
    "int a = 5;\n",
    "int b = 3;\n",
    "if (a + b > 10)\n",
    "    Console.WriteLine(\"The answer is greater than 10\");\n",
    "else\n",
    "    Console.WriteLine(\"The answer is not greater than 10\");"
   ]
  },
  {
   "cell_type": "markdown",
   "metadata": {},
   "source": [
    "The statement following the `else` keyword executes only when the condition being tested is `false`. Combining `if` and `else` with Boolean conditions provides all the power you need to handle both a `true` and a `false` condition.\n",
    "\n",
    "> [!IMPORTANT]\n",
    "> The indentation under the `if` and `else` statements is for human readers.\n",
    "> The C# language doesn't treat indentation or white space as significant. \n",
    "> The statement following the `if` or `else` keyword will be executed based\n",
    "> on the condition. All the samples in this quickstart follow a common\n",
    "> practice to indent lines based on the control flow of statements.\n",
    "\n",
    "Because indentation is not significant, you need to use `{` and `}` to\n",
    "indicate when you want more than one statement to be part of the block\n",
    "that executes conditionally. C# programmers typically use those braces\n",
    "on all `if` and `else` clauses. The following example is the same as the one you\n",
    "just created. Modify your code above to match the following code:"
   ]
  },
  {
   "cell_type": "code",
   "execution_count": null,
   "metadata": {
    "attributes": {
     "classes": [
      "csharp"
     ],
     "id": ""
    }
   },
   "outputs": [],
   "source": [
    "int a = 5;\n",
    "int b = 3;\n",
    "if (a + b > 10)\n",
    "{\n",
    "    Console.WriteLine(\"The answer is greater than 10\");\n",
    "}\n",
    "else\n",
    "{\n",
    "    Console.WriteLine(\"The answer is not greater than 10\");\n",
    "}"
   ]
  },
  {
   "cell_type": "markdown",
   "metadata": {},
   "source": [
    "> [!TIP]\n",
    "> Through the rest of this quickstart, the code samples all include the braces,\n",
    "> following accepted practices.\n",
    "\n",
    "You can test more complicated conditions. Add the following code in your `Main` method after the code you've written so far:"
   ]
  },
  {
   "cell_type": "code",
   "execution_count": null,
   "metadata": {
    "attributes": {
     "classes": [
      "csharp"
     ],
     "id": ""
    }
   },
   "outputs": [],
   "source": [
    "    int c = 4;\n",
    "    if ((a + b + c > 10) && (a > b))\n",
    "{\n",
    "    Console.WriteLine(\"The answer is greater than 10\");\n",
    "    Console.WriteLine(\"And the first number is greater than the second\");\n",
    "}\n",
    "else\n",
    "{\n",
    "    Console.WriteLine(\"The answer is not greater than 10\");\n",
    "    Console.WriteLine(\"Or the first number is not greater than the second\");\n",
    "}"
   ]
  },
  {
   "cell_type": "markdown",
   "metadata": {},
   "source": [
    "The `&&` represents \"and\". It means both conditions must be true to execute\n",
    "the statement in the true branch.  These examples also show that you can have multiple\n",
    "statements in each conditional branch, provided you enclose them in `{` and `}`.\n",
    "\n",
    "You can also use  `||` to represent \"or\". Add the following code after what you've written so far:"
   ]
  },
  {
   "cell_type": "code",
   "execution_count": null,
   "metadata": {
    "attributes": {
     "classes": [
      "csharp"
     ],
     "id": ""
    }
   },
   "outputs": [],
   "source": [
    "if ((a + b + c > 10) || (a > b))\n",
    "{\n",
    "    Console.WriteLine(\"The answer is greater than 10\");\n",
    "    Console.WriteLine(\"Or the first number is greater than the second\");\n",
    "}\n",
    "else\n",
    "{\n",
    "    Console.WriteLine(\"The answer is not greater than 10\");\n",
    "    Console.WriteLine(\"And the first number is not greater than the second\");\n",
    "}"
   ]
  },
  {
   "cell_type": "markdown",
   "metadata": {},
   "source": [
    "You've finished the first step. Before you start the next section, let's move the current code into a separate method. That makes it easier to start working with a new example. Rename your `Main` method to `ExploreIf` and write a new `Main` method that calls `ExploreIf`. When you have finished, your code should look like this:"
   ]
  },
  {
   "cell_type": "code",
   "execution_count": null,
   "metadata": {
    "attributes": {
     "classes": [
      "csharp"
     ],
     "id": ""
    }
   },
   "outputs": [],
   "source": [
    "using System;\n",
    "\n",
    "namespace BranchesAndLoops\n",
    "{\n",
    "    class Program\n",
    "    {\n",
    "        static void ExploreIf()\n",
    "        {\n",
    "            int a = 5;\n",
    "            int b = 3;\n",
    "            if (a + b > 10)\n",
    "            {\n",
    "                Console.WriteLine(\"The answer is greater than 10\");\n",
    "            }\n",
    "            else\n",
    "            {\n",
    "                Console.WriteLine(\"The answer is not greater than 10\");\n",
    "            }\n",
    "\n",
    "            if ((a + b + c > 10) && (a > b))\n",
    "            {\n",
    "                Console.WriteLine(\"The answer is greater than 10\");\n",
    "                Console.WriteLine(\"And the first number is greater than the second\");\n",
    "            }\n",
    "            else\n",
    "            {\n",
    "                Console.WriteLine(\"The answer is not greater than 10\");\n",
    "                Console.WriteLine(\"Or the first number is not greater than the second\");\n",
    "            }\n",
    "\n",
    "            if ((a + b + c > 10) || (a > b))\n",
    "            {\n",
    "                Console.WriteLine(\"The answer is greater than 10\");\n",
    "                Console.WriteLine(\"Or the first number is greater than the second\");\n",
    "            }\n",
    "            else\n",
    "            {\n",
    "                Console.WriteLine(\"The answer is not greater than 10\");\n",
    "                Console.WriteLine(\"And the first number is not greater than the second\");\n",
    "            }            \n",
    "        }\n",
    "\n",
    "        static void Main(string[] args)\n",
    "        {\n",
    "            ExploreIf();\n",
    "        }\n",
    "    }\n",
    "}"
   ]
  },
  {
   "cell_type": "markdown",
   "metadata": {},
   "source": [
    "Comment out the call to `ExploreIf()`. It will make the output less cluttered as you work in this section:"
   ]
  },
  {
   "cell_type": "code",
   "execution_count": null,
   "metadata": {
    "attributes": {
     "classes": [
      "csharp"
     ],
     "id": ""
    }
   },
   "outputs": [],
   "source": [
    "//ExploreIf();"
   ]
  },
  {
   "cell_type": "markdown",
   "metadata": {},
   "source": [
    "The `//` starts a **comment** in C#. Comments are any text you want to keep in your source code but not execute as code. The compiler does not generate any executable code from comments.\n",
    "\n",
    "## Use loops to repeat operations\n",
    "\n",
    "In this section you use **loops** to repeat statements. Try\n",
    "this code in your `Main` method:"
   ]
  },
  {
   "cell_type": "code",
   "execution_count": null,
   "metadata": {
    "attributes": {
     "classes": [
      "csharp"
     ],
     "id": ""
    }
   },
   "outputs": [],
   "source": [
    "int counter = 0;\n",
    "while (counter < 10)\n",
    "{\n",
    "    Console.WriteLine($\"Hello World! The counter is {counter}\");\n",
    "    counter++;\n",
    "}"
   ]
  },
  {
   "cell_type": "markdown",
   "metadata": {},
   "source": [
    "The `while` statement checks a condition and executes the statement or statement block\n",
    "following the `while`. It repeatedly checks the condition and\n",
    "executing those statements until the condition is false.\n",
    "\n",
    "There's one other new operator in this example. The `++` after\n",
    "the `counter` variable is the **increment** operator. It adds 1\n",
    "to the value of `counter` and stores that value in the `counter` variable.\n",
    "\n",
    "> [!IMPORTANT]\n",
    "> Make sure that the `while` loop condition changes to\n",
    "> false as you execute the code. Otherwise, you create an\n",
    "> **infinite loop** where your program never ends. That is \n",
    "> not demonstrated in this sample, because you have to force your program to\n",
    "> quit using **CTRL-C** or other means.\n",
    "\n",
    "The `while` loop tests the condition before executing the code\n",
    "following the `while`. The `do` ... `while` loop executes the \n",
    "code first, and then checks the condition. The do while loop is shown in the following code:"
   ]
  },
  {
   "cell_type": "code",
   "execution_count": null,
   "metadata": {
    "attributes": {
     "classes": [
      "csharp"
     ],
     "id": ""
    }
   },
   "outputs": [],
   "source": [
    "counter = 0;\n",
    "do\n",
    "{\n",
    "    Console.WriteLine($\"Hello World! The counter is {counter}\");\n",
    "    counter++;\n",
    "} while (counter < 10);"
   ]
  },
  {
   "cell_type": "markdown",
   "metadata": {},
   "source": [
    "This `do` loop and the earlier `while` loop produce the same output.\n",
    "\n",
    "## Work with the for loop\n",
    "\n",
    "The **for** loop is commonly used in C#. Try this code in your Main() method:"
   ]
  },
  {
   "cell_type": "code",
   "execution_count": null,
   "metadata": {
    "attributes": {
     "classes": [
      "csharp"
     ],
     "id": ""
    }
   },
   "outputs": [],
   "source": [
    "for(int index = 0; index < 10; index++)\n",
    "{\n",
    "    Console.WriteLine($\"Hello World! The index is {index}\");\n",
    "} "
   ]
  },
  {
   "cell_type": "markdown",
   "metadata": {},
   "source": [
    "This does the same work as the `while` loop and the `do` loop you've\n",
    "already used. The `for` statement has three parts that control\n",
    "how it works.\n",
    "\n",
    "The first part is the **for initializer**: `for index = 0;` declares\n",
    "that `index` is the loop variable, and sets its initial value to `0`.\n",
    "\n",
    "The middle part is the **for condition**: `index < 10` declares that this\n",
    "`for` loop continues to execute as long as the value of counter is less than 10.\n",
    "\n",
    "The final part is the **for iterator**: `index++` specifies how to modify the loop\n",
    "variable after executing the block following the `for` statement. Here, it specifies\n",
    "that `index` should be incremented by 1 each time the block executes.\n",
    "\n",
    "Experiment with these yourself. Try each of the following:\n",
    "\n",
    "- Change the initializer to start at a different value.\n",
    "- Change the condition to stop at a different value.\n",
    "\n",
    "When you're done, let's move on to write some code yourself to\n",
    "use what you've learned.\n",
    "\n",
    "## Combine branches and loops\n",
    "\n",
    "Now that you've seen the `if` statement and the looping\n",
    "constructs in the C# language, see if you can write C# code to\n",
    "find the sum of all integers 1 through 20 that are divisible\n",
    "by 3.  Here are a few hints:\n",
    "\n",
    "- The `%` operator gives you the remainder of a division operation.\n",
    "- The `if` statement gives you the condition to see if a number should be part of the sum.\n",
    "- The `for` loop can help you repeat a series of steps for all the numbers 1 through 20.\n",
    "\n",
    "Try it yourself. Then check how you did. You should get 63 for an answer. You can see one possible answer by\n",
    "[viewing the completed code on GitHub](https://github.com/dotnet/samples/tree/master/csharp/branches-quickstart/Program.cs#L46-L54).\n",
    "\n",
    "You've completed the \"branches and loops\" quickstart.\n",
    "\n",
    "You can continue with\n",
    "the [String interpolation](interpolated-strings-local.md) quickstart in\n",
    "your own development environment.\n",
    "\n",
    "You can learn more about these concepts in these topics:\n",
    "\n",
    "[If and else statement](../language-reference/keywords/if-else.md)  \n",
    "[While statement](../language-reference/keywords/while.md)  \n",
    "[Do statement](../language-reference/keywords/do.md)  \n",
    "[For statement](../language-reference/keywords/for.md)"
   ]
  },
  {
   "cell_type": "markdown",
   "metadata": {},
   "source": [
    "# String interpolation\n",
    "\n",
    "This quickstart teaches you how to use C# [string interpolation](../language-reference/tokens/interpolated.md) to insert values into a single result string. You write C# code and see the results of compiling and running it. The quickstart contains a series of lessons that show you how to insert values into a string and format those values in different ways.\n",
    "\n",
    "This quickstart expects that you have a machine you can use for development. The .NET topic [Get Started in 10 minutes](https://www.microsoft.com/net/core) has instructions for setting up your local development environment on Mac, PC or Linux. A quick overview of the commands you'll use is in the [introduction to the local quickstarts](local-environment.md) with links to more details. You also can complete the [interactive version](interpolated-strings.yml) of this quickstart in your browser.\n",
    "\n",
    "## Create an interpolated string\n",
    "\n",
    "Create a directory named **interpolated**. Make it the current directory and run the following command from a new console window:"
   ]
  },
  {
   "cell_type": "markdown",
   "metadata": {},
   "source": [
    "Open **Program.cs** in your favorite editor, and replace the line `Console.WriteLine(\"Hello World!\");` with the following code, where you replace `<name>` with your name:"
   ]
  },
  {
   "cell_type": "code",
   "execution_count": null,
   "metadata": {
    "attributes": {
     "classes": [
      "csharp"
     ],
     "id": ""
    }
   },
   "outputs": [],
   "source": [
    "var name = \"<name>\";\n",
    "Console.WriteLine($\"Hello, {name}. It's a pleasure to meet you!\");"
   ]
  },
  {
   "cell_type": "markdown",
   "metadata": {},
   "source": [
    "When you run the program, it displays a single string that includes your name in the greeting. The string included in the <xref:System.Console.WriteLine%2A> method call is an *interpolated string*. It's a kind of template that lets you construct a single string (called the *result string*) from a string that includes embedded code. Interpolated strings are particularly useful for inserting values into a string or concatenating (joining together) strings.\n",
    "\n",
    "This simple example contains the two elements that every interpolated string must have:\n",
    "\n",
    "- A string literal that begins with the `$` character before its opening quotation mark character. There can't be any spaces between the `$` symbol and the quotation mark character. (If you'd like to see what happens if you include one, insert a space after the `$` character, save the file, and run the program again by typing `dotnet run` in the console window. The C# compiler displays an error message, \"error CS1056: Unexpected character '$'\".)\n",
    "\n",
    "- One or more *interpolated expressions*. An interpolated expression is indicated by an opening and closing brace (`{` and `}`). You can put any C# expression that returns a value (including `null`) inside the braces.\n",
    "\n",
    "Let's try a few more string interpolation examples with some other data types.\n",
    "\n",
    "## Include different data types\n",
    "\n",
    "In the previous section, you used string interpolation to insert one string inside of another. The result of an interpolated expression can be of any data type, though. Let's include values of various data types in an interpolated string.\n",
    "\n",
    "In the following example, first, we define a [class](../programming-guide/classes-and-structs/classes.md) data type `Vegetable` that has the `Name` [property](../properties.md) and the `ToString` [method](../methods.md), which [overrides](../language-reference/keywords/override.md) the behavior of the <xref:System.Object.ToString?displayProperty=nameWithType> method. The [`public` access modifier](../language-reference/keywords/public.md) makes that method available to any client code to get the string representation of a `Vegetable` instance. In the example the `Vegetable.ToString` method returns the value of the `Name` property that is initialized at the `Vegetable` [constructor](../programming-guide/classes-and-structs/constructors.md):"
   ]
  },
  {
   "cell_type": "code",
   "execution_count": null,
   "metadata": {
    "attributes": {
     "classes": [
      "csharp"
     ],
     "id": ""
    }
   },
   "outputs": [],
   "source": [
    "public Vegetable(string name) => Name = name;"
   ]
  },
  {
   "cell_type": "markdown",
   "metadata": {},
   "source": [
    "Then we create an instance of the `Vegetable` class by using [`new` keyword](../language-reference/keywords/new-operator.md) and providing a name parameter for the constructor `Vegetable`:"
   ]
  },
  {
   "cell_type": "code",
   "execution_count": null,
   "metadata": {
    "attributes": {
     "classes": [
      "csharp"
     ],
     "id": ""
    }
   },
   "outputs": [],
   "source": [
    "var item = new Vegetable(\"eggplant\");"
   ]
  },
  {
   "cell_type": "markdown",
   "metadata": {},
   "source": [
    "Finally, we include the `item` variable into an interpolated string that also contains a <xref:System.DateTime> value, a <xref:System.Decimal> value, and a `Unit` [enumeration](../programming-guide/enumeration-types.md) value. Replace all of the C# code in your editor with the following code:"
   ]
  },
  {
   "cell_type": "code",
   "execution_count": null,
   "metadata": {
    "attributes": {
     "classes": [
      "csharp"
     ],
     "id": ""
    }
   },
   "outputs": [],
   "source": [
    "using System;\n",
    "\n",
    "public class Vegetable\n",
    "{\n",
    "   public Vegetable(string name) => Name = name;\n",
    "   \n",
    "   public string Name { get; }\n",
    "   \n",
    "   public override string ToString() => Name;\n",
    "}\n",
    "\n",
    "public class Program\n",
    "{\n",
    "   public enum Unit { item, pound, ounce, dozen };\n",
    "\n",
    "   public static void Main()\n",
    "   {\n",
    "      var item = new Vegetable(\"eggplant\");\n",
    "      var date = DateTime.Now;\n",
    "      var price = 1.99m;\n",
    "      var unit = Unit.item;\n",
    "      Console.WriteLine($\"On {date}, the price of {item} was {price} per {unit}.\");\n",
    "   }\n",
    "}"
   ]
  },
  {
   "cell_type": "markdown",
   "metadata": {},
   "source": [
    "Note that the interpolated expression `item` in the interpolated string resolves to the text \"eggplant\" in the result string. That's because, when the type of the expression result is not a string, the result is resolved to a string in the following way:\n",
    "\n",
    "- If the interpolated expression evaluates to `null`, an empty string (\"\", or <xref:System.String.Empty?displayProperty=nameWithType>) is used.\n",
    "\n",
    "- If the interpolated expression doesn't evaluate to `null`, typically the `ToString` method of the result type is called. You can test this by updating the implementation of the `Vegetable.ToString` method. You might not even need to implement the `ToString` method since every type has some implementation of this method. To test this, comment out the definition of the `Vegetable.ToString` method in the example (to do that, put a comment symbol, `//`, in front of it). In the output, the string \"eggplant\" is replaced by the fully qualified type name (\"Vegetable\" in this example), which is the default behavior of the <xref:System.Object.ToString?displayProperty=nameWithType> method. The default behavior of the `ToString` method for an enumeration value is to return the string representation of the value.\n",
    "\n",
    "In the output from this example, the date is too precise (the price of eggplant doesn't change every second), and the price value doesn't indicate a unit of currency. In the next section, you'll learn how to fix those issues by controlling the format of string representations of the expression results.\n",
    "\n",
    "## Control the formatting of interpolated expressions\n",
    "\n",
    "In the previous section, two poorly formatted strings were inserted into the result string. One was a date and time value for which only the date was appropriate. The second was a price that didn't indicate its unit of currency. Both issues are easy to address. String interpolation lets you specify *format strings* that control the formatting of particular types. Modify the call to `Console.WriteLine` from the previous example to include the format strings for the date and price expressions as shown in the following line:"
   ]
  },
  {
   "cell_type": "code",
   "execution_count": null,
   "metadata": {
    "attributes": {
     "classes": [
      "csharp"
     ],
     "id": ""
    }
   },
   "outputs": [],
   "source": [
    "Console.WriteLine($\"On {date:d}, the price of {item} was {price:C2} per {unit}.\");"
   ]
  },
  {
   "cell_type": "markdown",
   "metadata": {},
   "source": [
    "You specify a format string by following the interpolated expression with a colon (\":\") and the format string. \"d\" is a [standard date and time format string](../../standard/base-types/standard-date-and-time-format-strings.md#the-short-date-d-format-specifier) that represents the short date format. \"C2\" is a  [standard numeric format string](../../standard/base-types/standard-numeric-format-strings.md#the-currency-c-format-specifier) that represents a number as a currency value with two digits after the decimal point.\n",
    "\n",
    "A number of types in the .NET libraries support a predefined set of format strings. These include all the numeric types and the date and time types. For a complete list of types that support format strings, see [Format Strings and .NET Class Library Types](../../standard/base-types/formatting-types.md#stringRef) in the [Formatting Types in .NET](../../standard/base-types/formatting-types.md) article.\n",
    "\n",
    "Try modifying the format strings in your text editor and, each time you make a change, rerun the program to see how the changes affect the formatting of the date and time and the numeric value. Change the \"d\" in `{date:d}` to \"t\" (to display the short time format), \"y\" (to display the year and month), and \"yyyy\" (to display the year as a four-digit number). Change the \"C2\" in `{price:C2}` to \"e\" (for exponential notation) and \"F3\" (for a numeric value with three digits after the decimal point).\n",
    "\n",
    "In addition to controlling formatting, you can also control the field width and alignment of the formatted strings that are included in the result string. In the next section, you'll learn how to do this.\n",
    "\n",
    "## Control the field width and alignment of interpolated expressions\n",
    "\n",
    "Ordinarily, when the result of an interpolated expression is formatted to string, that string is included in a result string without leading or trailing spaces. Particularly when you work with a set of data, being able to control a field width and text alignment helps to produce a more readable output. To see this, replace all the code in your text editor with the following code, then type `dotnet run` to execute the program:"
   ]
  },
  {
   "cell_type": "code",
   "execution_count": null,
   "metadata": {
    "attributes": {
     "classes": [
      "csharp"
     ],
     "id": ""
    }
   },
   "outputs": [],
   "source": [
    "using System;\n",
    "using System.Collections.Generic;\n",
    "\n",
    "public class Example\n",
    "{\n",
    "   public static void Main()\n",
    "   {\n",
    "      var titles = new Dictionary<string, string>()\n",
    "      {\n",
    "          [\"Doyle, Arthur Conan\"] = \"Hound of the Baskervilles, The\",\n",
    "          [\"London, Jack\"] = \"Call of the Wild, The\",\n",
    "          [\"Shakespeare, William\"] = \"Tempest, The\"\n",
    "      };\n",
    "\n",
    "      Console.WriteLine(\"Author and Title List\");\n",
    "      Console.WriteLine();\n",
    "      Console.WriteLine($\"|{\"Author\",-25}|{\"Title\",30}|\");\n",
    "      foreach (var title in titles)\n",
    "         Console.WriteLine($\"|{title.Key,-25}|{title.Value,30}|\");\n",
    "   }\n",
    "}"
   ]
  },
  {
   "cell_type": "markdown",
   "metadata": {},
   "source": [
    "The names of authors are left-aligned, and the titles they wrote are right-aligned. You specify the alignment by adding a comma (\",\") after an interpolated expression and designating the *minimum* field width. If the specified value is a positive number, the field is right-aligned. If it is a negative number, the field is left-aligned.\n",
    "\n",
    "Try removing the negative signs from the `{\"Author\",-25}` and `{title.Key,-25}` code and run the example again, as the following code does:"
   ]
  },
  {
   "cell_type": "code",
   "execution_count": null,
   "metadata": {
    "attributes": {
     "classes": [
      "csharp"
     ],
     "id": ""
    }
   },
   "outputs": [],
   "source": [
    "Console.WriteLine($\"|{\"Author\",25}|{\"Title\",30}|\");\n",
    "foreach (var title in titles)\n",
    "   Console.WriteLine($\"|{title.Key,25}|{title.Value,30}|\");"
   ]
  },
  {
   "cell_type": "markdown",
   "metadata": {},
   "source": [
    "This time, the author information is right-aligned.\n",
    "\n",
    "You can combine an alignment specifier and a format string for a single interpolated expression. To do that, specify the alignment first, followed by a colon and the format string. Replace all of the code inside the `Main` method with the following code, which displays three formatted strings with defined field widths. Then run the program by entering the `dotnet run` command."
   ]
  },
  {
   "cell_type": "code",
   "execution_count": null,
   "metadata": {
    "attributes": {
     "classes": [
      "csharp"
     ],
     "id": ""
    }
   },
   "outputs": [],
   "source": [
    "Console.WriteLine($\"[{DateTime.Now,-20:d}] Hour [{DateTime.Now,-10:HH}] [{1063.342,15:N2}] feet\");"
   ]
  },
  {
   "cell_type": "markdown",
   "metadata": {},
   "source": [
    "The output looks something like the following:"
   ]
  },
  {
   "cell_type": "code",
   "execution_count": null,
   "metadata": {
    "attributes": {
     "classes": [
      "console"
     ],
     "id": ""
    }
   },
   "outputs": [],
   "source": [
    "[04/14/2018          ] Hour [16        ] [       1,063.34] feet"
   ]
  },
  {
   "cell_type": "markdown",
   "metadata": {},
   "source": [
    "You've completed the string interpolation quickstart.\n",
    "\n",
    "You can continue with the [List collection](arrays-and-collections.md) quickstart in your own development environment.\n",
    "\n",
    "For more information, see the [String interpolation](../language-reference/tokens/interpolated.md) topic and the [String interpolation in C#](../tutorials/string-interpolation.md) tutorial."
   ]
  },
  {
   "cell_type": "markdown",
   "metadata": {},
   "source": [
    "# C# Quickstart: Collections\n",
    "\n",
    "This quickstart provides an introduction to the C# language and the basics of the <xref:System.Collections.Generic.List%601>\n",
    "class.\n",
    "\n",
    "This quickstart expects you to have a machine you can use for development. The .NET topic [Get Started in 10 minutes](https://www.microsoft.com/net/core) has instructions for setting up your local development environment on Mac, PC or Linux. A quick overview of the commands you'll use is in the [introduction to the local quickstarts](local-environment.md) with links to more details.\n",
    "\n",
    "## A basic list example\n",
    "\n",
    "Create a directory named **list-quickstart**. Make that the current directory and run `dotnet new console`.\n",
    "\n",
    "> [!NOTE]\n",
    "> If you just completed [Get started with .NET in 10 minutes](https://www.microsoft.com/net), you can keep using the myApp application that you just created.\n",
    "\n",
    "Open **Program.cs** in your favorite editor, and replace the existing code with the following:"
   ]
  },
  {
   "cell_type": "code",
   "execution_count": null,
   "metadata": {
    "attributes": {
     "classes": [
      "csharp"
     ],
     "id": ""
    }
   },
   "outputs": [],
   "source": [
    "using System;\n",
    "using System.Collections.Generic;\n",
    "\n",
    "namespace list_quickstart\n",
    "{\n",
    "    class Program\n",
    "    {\n",
    "        static void Main(string[] args)\n",
    "        {\n",
    "            var names = new List<string> { \"<name>\", \"Ana\", \"Felipe\" };\n",
    "            foreach (var name in names)\n",
    "            {\n",
    "                Console.WriteLine($\"Hello {name.ToUpper()}!\");\n",
    "            }\n",
    "        }\n",
    "    }\n",
    "}"
   ]
  },
  {
   "cell_type": "markdown",
   "metadata": {},
   "source": [
    "Replace `<name>` with your name. Save **Program.cs**. Type `dotnet run` in your console window to try it.\n",
    "\n",
    "You've just created a list of strings, added three names to that list, and printed out the names in all CAPS. You're using concepts that you've learned in earlier quickstarts to loop through the list.\n",
    "\n",
    "The code to display names makes use of the [string interpolation](../language-reference/tokens/interpolated.md) feature.  When you precede a `string` with the `$` character, you can embed C# code in the string declaration. The actual string replaces that C# code with the value it generates. In this example, it replaces the `{name.ToUpper()}` with each name, converted to capital letters, because you called the <xref:System.String.ToUpper%2A> method.\n",
    "\n",
    "Let's keep exploring.\n",
    "\n",
    "## Modify list contents\n",
    "\n",
    "The collection you created uses the <xref:System.Collections.Generic.List%601> type. This type stores sequences of elements. You specify the type of the elements between the angle brackets.\n",
    "\n",
    "One important aspect of this <xref:System.Collections.Generic.List%601> type is that it can grow or shrink, enabling you to add or remove elements. Add this code before the closing `}` in the `Main` method:"
   ]
  },
  {
   "cell_type": "code",
   "execution_count": null,
   "metadata": {
    "attributes": {
     "classes": [
      "csharp"
     ],
     "id": ""
    }
   },
   "outputs": [],
   "source": [
    "Console.WriteLine();\n",
    "names.Add(\"Maria\");\n",
    "names.Add(\"Bill\");\n",
    "names.Remove(\"Ana\");\n",
    "foreach (var name in names)\n",
    "{\n",
    "    Console.WriteLine($\"Hello {name.ToUpper()}!\");\n",
    "}"
   ]
  },
  {
   "cell_type": "markdown",
   "metadata": {},
   "source": [
    "You've added two more names to the end of the list. You've also removed one as well. Save the file, and type `dotnet run` to try it.\n",
    "\n",
    "The <xref:System.Collections.Generic.List%601> enables you to reference individual items by **index** as well. You place the index between `[` and `]` tokens following the list name. C# uses 0 for the first index. Add this code directly below the code you just added and try it:"
   ]
  },
  {
   "cell_type": "code",
   "execution_count": null,
   "metadata": {
    "attributes": {
     "classes": [
      "csharp"
     ],
     "id": ""
    }
   },
   "outputs": [],
   "source": [
    "Console.WriteLine($\"My name is {names[0]}\");\n",
    "Console.WriteLine($\"I've added {names[2]} and {names[3]} to the list\");"
   ]
  },
  {
   "cell_type": "markdown",
   "metadata": {},
   "source": [
    "You cannot access an index beyond the end of the list. Remember that indices start at 0, so the largest valid index is one less than the number of items in the list. You can check how long the list is using the <xref:System.Collections.Generic.List%601.Count%2A> property. Add the following code at the end of the Main method:"
   ]
  },
  {
   "cell_type": "code",
   "execution_count": null,
   "metadata": {
    "attributes": {
     "classes": [
      "csharp"
     ],
     "id": ""
    }
   },
   "outputs": [],
   "source": [
    "Console.WriteLine($\"The list has {names.Count} people in it\");\n",
    " ```\n",
    "\n",
    "Save the file, and type `dotnet run` again to see the results.\n",
    "\n",
    "## Search and sort lists\n",
    "\n",
    "Our samples use relatively small lists, but your applications may often create lists with many more elements, sometimes numbering in the thousands. To find elements in these larger collections, you need to search the list for different items. The <xref:System.Collections.Generic.List%601.IndexOf%2A> method searches for an item and returns the index of the item. Add this code to the bottom of your `Main` method:\n",
    "\n",
    "```csharp\n",
    "var index = names.IndexOf(\"Felipe\");\n",
    "if (index == -1)\n",
    "{\n",
    "    Console.WriteLine($\"When an item is not found, IndexOf returns {index}\");\n",
    "} else\n",
    "{\n",
    "    Console.WriteLine($\"The name {names[index]} is at index {index}\");\n",
    "}\n",
    "\n",
    "index = names.IndexOf(\"Not Found\");\n",
    "if (index == -1)\n",
    "{\n",
    "    Console.WriteLine($\"When an item is not found, IndexOf returns {index}\");\n",
    "} else\n",
    "{\n",
    "    Console.WriteLine($\"The name {names[index]} is at index {index}\");\n",
    "\n",
    "}"
   ]
  },
  {
   "cell_type": "markdown",
   "metadata": {},
   "source": [
    "The items in your list can be sorted as well. The <xref:System.Collections.Generic.List%601.Sort%2A> method sorts all the items in the list in their normal order (alphabetically in the case of strings). Add this code to the bottom of our `Main` method:"
   ]
  },
  {
   "cell_type": "code",
   "execution_count": null,
   "metadata": {
    "attributes": {
     "classes": [
      "csharp"
     ],
     "id": ""
    }
   },
   "outputs": [],
   "source": [
    "names.Sort();\n",
    "foreach (var name in names)\n",
    "{\n",
    "    Console.WriteLine($\"Hello {name.ToUpper()}!\");\n",
    "}"
   ]
  },
  {
   "cell_type": "markdown",
   "metadata": {},
   "source": [
    "Save the file and type `dotnet run` to try this latest version.\n",
    "\n",
    "Before you start the next section, let's move the current code into a separate method. That makes it easier to start working with a new example. Rename your `Main` method to `WorkingWithStrings` and write a new `Main` method that calls `WorkingWithStrings`. When you have finished, your code should look like this:"
   ]
  },
  {
   "cell_type": "code",
   "execution_count": null,
   "metadata": {
    "attributes": {
     "classes": [
      "csharp"
     ],
     "id": ""
    }
   },
   "outputs": [],
   "source": [
    "using System;\n",
    "using System.Collections.Generic;\n",
    "\n",
    "namespace list_quickstart\n",
    "{\n",
    "    class Program\n",
    "    {\n",
    "        static void Main(string[] args)\n",
    "        {\n",
    "            WorkingWithStrings();\n",
    "        }\n",
    "\n",
    "        public static void WorkingWithStrings()\n",
    "        {\n",
    "            var names = new List<string> { \"<name>\", \"Ana\", \"Felipe\" };\n",
    "            foreach (var name in names)\n",
    "            {\n",
    "                Console.WriteLine($\"Hello {name.ToUpper()}!\");\n",
    "            }\n",
    "\n",
    "            Console.WriteLine();\n",
    "            names.Add(\"Maria\");\n",
    "            names.Add(\"Bill\");\n",
    "            names.Remove(\"Ana\");\n",
    "            foreach (var name in names)\n",
    "            {\n",
    "                Console.WriteLine($\"Hello {name.ToUpper()}!\");\n",
    "            }\n",
    "\n",
    "            Console.WriteLine($\"My name is {names[0]}\");\n",
    "            Console.WriteLine($\"I've added {names[2]} and {names[3]} to the list\");\n",
    "\n",
    "            Console.WriteLine($\"The list has {names.Count} people in it\");\n",
    "\n",
    "            var index = names.IndexOf(\"Felipe\");\n",
    "            Console.WriteLine($\"The name {names[index]} is at index {index}\");\n",
    "\n",
    "            var notFound = names.IndexOf(\"Not Found\");\n",
    "            Console.WriteLine($\"When an item is not found, IndexOf returns {notFound}\");\n",
    "\n",
    "            names.Sort();\n",
    "            foreach (var name in names)\n",
    "            {\n",
    "                Console.WriteLine($\"Hello {name.ToUpper()}!\");\n",
    "            }\n",
    "        }\n",
    "    }\n",
    "}"
   ]
  },
  {
   "cell_type": "markdown",
   "metadata": {},
   "source": [
    "## Lists of other types\n",
    "\n",
    "You've been using the `string` type in lists so far. Let's make a <xref:System.Collections.Generic.List%601> using a different type. Let's build a set of numbers.\n",
    "\n",
    "Add the following to the bottom of your new `Main` method:"
   ]
  },
  {
   "cell_type": "code",
   "execution_count": null,
   "metadata": {
    "attributes": {
     "classes": [
      "csharp"
     ],
     "id": ""
    }
   },
   "outputs": [],
   "source": [
    "var fibonacciNumbers = new List<int> {1, 1};"
   ]
  },
  {
   "cell_type": "markdown",
   "metadata": {},
   "source": [
    "That creates a list of integers, and sets the first two integers to the value 1. These are the first two values of a *Fibonacci Sequence*, a sequence of numbers. Each next Fibonacci number is found by taking the sum of the previous two numbers. Add this code:"
   ]
  },
  {
   "cell_type": "code",
   "execution_count": null,
   "metadata": {
    "attributes": {
     "classes": [
      "csharp"
     ],
     "id": ""
    }
   },
   "outputs": [],
   "source": [
    "var previous = fibonacciNumbers[fibonacciNumbers.Count - 1];\n",
    "var previous2 = fibonacciNumbers[fibonacciNumbers.Count - 2];\n",
    "\n",
    "fibonacciNumbers.Add(previous + previous2);\n",
    "\n",
    "foreach(var item in fibonacciNumbers)\n",
    "    Console.WriteLine(item);"
   ]
  },
  {
   "cell_type": "markdown",
   "metadata": {},
   "source": [
    "Save the file and type `dotnet run` to see the results.\n",
    "\n",
    "> [!TIP]\n",
    "> To concentrate on just this section, you can comment out the code that calls `WorkingWithStrings();`. Just put two `/` characters in front of the call like this:  `// WorkingWithStrings();`.\n",
    "\n",
    "## Challenge\n",
    "\n",
    "See if you can put together some of the concepts from this and earlier lessons. Expand on what you've built so far with Fibonacci Numbers. Try to write the code to generate the first 20 numbers in the sequence. (As a hint, the 20th Fibonacci number is 6765.)\n",
    "\n",
    "## Complete challenge\n",
    "\n",
    "You can see an example solution by [looking at the finished sample code on GitHub](https://github.com/dotnet/samples/tree/master/csharp/list-quickstart/Program.cs#L13-L23)\n",
    "\n",
    "With each iteration of the loop, you're taking the last two integers in the list, summing them, and adding that value to the list. The loop repeats until you've added 20 items to the list.\n",
    "\n",
    "Congratulations, you've completed the list quickstart. You can continue with\n",
    "the [Introduction to classes](introduction-to-classes.md) quickstart in\n",
    "your own development environment.\n",
    "\n",
    "You can learn more about working with the `List` type in the\n",
    "[.NET Guide](../../standard/index.md) topic on [collections](../../standard/collections/index.md). You'll also learn about many other collection types."
   ]
  },
  {
   "cell_type": "markdown",
   "metadata": {},
   "source": [
    "# Introduction to classes\n",
    "\n",
    "This quickstart expects that you have a machine you can use for development. The .NET topic [Get Started in 10 minutes](https://www.microsoft.com/net/core) has instructions for setting up your local development environment on Mac, PC or Linux. A quick overview of the commands you'll use is in the [introduction to the local quickstarts](local-environment.md) with links to more details.\n",
    "\n",
    "## Create your application\n",
    "\n",
    "It should look like this:"
   ]
  },
  {
   "cell_type": "code",
   "execution_count": null,
   "metadata": {
    "attributes": {
     "classes": [
      "csharp"
     ],
     "id": ""
    }
   },
   "outputs": [],
   "source": [
    "using System;\n",
    "\n",
    "namespace classes\n",
    "{\n",
    "    class Program\n",
    "    {\n",
    "        static void Main(string[] args)\n",
    "        {\n",
    "            Console.WriteLine(\"Hello World!\");\n",
    "        }\n",
    "    }\n",
    "}"
   ]
  },
  {
   "cell_type": "markdown",
   "metadata": {},
   "source": [
    "In this quickstart, you're going to create new types that represent a bank account. Typically developers define each class in a different text file. That makes it easier to manage as a program grows in size.  Create a new file named **BankAccount.cs** in the **classes** directory. \n",
    "\n",
    "This file will contain the definition of a ***bank account***. Object Oriented programming organizes code by creating types in the form of ***classes***. These classes contain the code that represents a specific entity. The `BankAccount` class represents a bank account. The code implements specific operations through methods and properties. In this quickstart, the bank account supports this behavior:\n",
    "\n",
    "1. It has a 10-digit number that uniquely identifies the bank account.\n",
    "1. It has a string that stores the name or names of the owners.\n",
    "1. The balance can be retrieved.\n",
    "1. It accepts deposits.\n",
    "1. It accepts withdrawals.\n",
    "1. The initial balance must be positive.\n",
    "1. Withdrawals cannot result in a negative balance.\n",
    "\n",
    "## Define the bank account type\n",
    "\n",
    "You can start by creating the basics of a class that defines that behavior. It would look like this:"
   ]
  },
  {
   "cell_type": "code",
   "execution_count": null,
   "metadata": {
    "attributes": {
     "classes": [
      "csharp"
     ],
     "id": ""
    }
   },
   "outputs": [],
   "source": [
    "using System;\n",
    "\n",
    "namespace classes\n",
    "{\n",
    "    public class BankAccount\n",
    "    {\n",
    "        public string Number { get; }\n",
    "        public string Owner { get; set; }\n",
    "        public decimal Balance { get; }\n",
    "\n",
    "        public void MakeDeposit(decimal amount, DateTime date, string note)\n",
    "        {\n",
    "        }\n",
    "\n",
    "        public void MakeWithdrawal(decimal amount, DateTime date, string note)\n",
    "        {\n",
    "        }\n",
    "    }\n",
    "}"
   ]
  },
  {
   "cell_type": "markdown",
   "metadata": {},
   "source": [
    "Before going on, let's take a look at what you've built.  The `namespace` declaration provides a way to logically organize your code. This quickstart is relatively small, so you'll put all the code in one namespace. \n",
    "\n",
    "`public class BankAccount` defines the class, or type, you are creating. Everything inside the `{` and `}` that follows the class declaration defines the behavior of the class. There are five ***members*** of the `BankAccount` class. The first three are ***properties***. Properties are data elements and can have code that enforces validation or other rules. The last two are ***methods***. Methods are blocks of code that perform a single function. Reading the names of each of the members should provide enough information for you or another developer to understand what the class does.\n",
    "\n",
    "## Open a new account\n",
    "\n",
    "The first feature to implement is to open a bank account. When a customer opens an account, they must supply an initial balance, and information about the owner or owners of that account. \n",
    "\n",
    "Creating a new object of the `BankAccount` type means defining a ***constructor*** that assigns those values. A ***constructor*** is a member that has the same name as the class. It is used to initialize objects of that class type. Add the following constructor to the `BankAccount` type:"
   ]
  },
  {
   "cell_type": "code",
   "execution_count": null,
   "metadata": {
    "attributes": {
     "classes": [
      "csharp"
     ],
     "id": ""
    }
   },
   "outputs": [],
   "source": [
    "public BankAccount(string name, decimal initialBalance)\n",
    "{\n",
    "    this.Owner = name;\n",
    "    this.Balance = initialBalance;\n",
    "}"
   ]
  },
  {
   "cell_type": "markdown",
   "metadata": {},
   "source": [
    "Constructors are called when you create an object using [`new`](../language-reference/keywords/new.md). Replace the line `Console.WriteLine(\"Hello World!\");` in ***program.cs*** with the following line (replace `<name>` with your name):"
   ]
  },
  {
   "cell_type": "code",
   "execution_count": null,
   "metadata": {
    "attributes": {
     "classes": [
      "csharp"
     ],
     "id": ""
    }
   },
   "outputs": [],
   "source": [
    "var account = new BankAccount(\"<name>\", 1000);\n",
    "Console.WriteLine($\"Account {account.Number} was created for {account.Owner} with {account.Balance} initial balance.\");"
   ]
  },
  {
   "cell_type": "markdown",
   "metadata": {},
   "source": [
    "Did you notice that the account number is blank? It's time to fix that. The account number should be assigned when the object is constructed. But it shouldn't be the responsibility of the caller to create it. The `BankAccount` class code should know how to assign new account numbers.  A simple way to do this is to start with a 10-digit number. Increment it when each new account is created. Finally, store the current account number when an object is constructed.\n",
    "\n",
    "Add the following member declaration to the `BankAccount` class:"
   ]
  },
  {
   "cell_type": "code",
   "execution_count": null,
   "metadata": {
    "attributes": {
     "classes": [
      "csharp"
     ],
     "id": ""
    }
   },
   "outputs": [],
   "source": [
    "private static int accountNumberSeed = 1234567890;"
   ]
  },
  {
   "cell_type": "markdown",
   "metadata": {},
   "source": [
    "This is a data member. It's `private`, which means it can only be accessed by code inside the `BankAccount` class. It's a way of separating the public responsibilities (like having an account number) from the private implementation (how account numbers are generated.) Add the following two lines to the constructor to assign the account number:"
   ]
  },
  {
   "cell_type": "code",
   "execution_count": null,
   "metadata": {
    "attributes": {
     "classes": [
      "csharp"
     ],
     "id": ""
    }
   },
   "outputs": [],
   "source": [
    "this.Number = accountNumberSeed.ToString();\n",
    "accountNumberSeed++;"
   ]
  },
  {
   "cell_type": "markdown",
   "metadata": {},
   "source": [
    "## Create deposits and withdrawals\n",
    "\n",
    "Your bank account class needs to accept deposits and withdrawals to work correctly. Let's implement deposits and withdrawals by creating a journal of every transaction for the account. That has a few advantages over simply updating the balance on each transaction. The history can be used to audit all transactions and manage daily balances. By computing the balance from the history of all transactions when needed, any errors in a single transaction that are fixed will be correctly reflected in the balance on the next computation.\n",
    "\n",
    "Let's start by creating a new type to represent a transaction. This is a simple type that doesn't have any responsibilities. It needs a few properties. Create a new file named ***Transaction.cs***. Add the following code to it:\n",
    "\n",
    "[!code-csharp[Transaction](../../../samples/csharp/classes-quickstart/Transaction.cs \"Transaction declaration\")]\n",
    "\n",
    "Now, let's add a <xref:System.Collections.Generic.List%601> of `Transaction` objects to the `BankAccount` class. Add the following declaration:\n",
    "\n",
    "[!code-csharp[TransactionDecl](../../../samples/csharp/classes-quickstart/BankAccount.cs#TransactionDeclaration \"Transaction declaration\")]\n",
    "\n",
    "The <xref:System.Collections.Generic.List%601> class requires you to import a different namespace. Add the following at the beginning of **BankAccount.cs**:"
   ]
  },
  {
   "cell_type": "code",
   "execution_count": null,
   "metadata": {
    "attributes": {
     "classes": [
      "csharp"
     ],
     "id": ""
    }
   },
   "outputs": [],
   "source": [
    "using System.Collections.Generic;"
   ]
  },
  {
   "cell_type": "markdown",
   "metadata": {},
   "source": [
    "Now, let's change how the `Balance` is reported.  It can be found by summing the values of all transactions. Modify the declaration of `Balance` in the `BankAccount` class to the following:\n",
    "\n",
    "[!code-csharp[BalanceComputation](../../../samples/csharp/classes-quickstart/BankAccount.cs#BalanceComputation \"Computing the balance\")]\n",
    "\n",
    "This example shows an important aspect of ***properties***. You're now computing the balance when another programmer asks for the value. Your computation enumerates all transactions, and provides the sum as the current balance.\n",
    "\n",
    "Next, implement the `MakeDeposit` and `MakeWithdrawal` methods. These methods will enforce the final two rules: that the initial balance must be positive, and that any withdrawal must not create a negative balance. \n",
    "\n",
    "This introduces the concept of ***exceptions***. The standard way of indicating that a method cannot complete its work successfully is to throw an exception. The type of exception and the message associated with it describe the error. Here, the `MakeDeposit` method throws an exception if the amount of the deposit is negative. The `MakeWithdrawal` method throws an exception if the withdrawal amount is negative, or if applying the withdrawal results in a negative balance:\n",
    "\n",
    "[!code-csharp[DepositAndWithdrawal](../../../samples/csharp/classes-quickstart/BankAccount.cs#DepositAndWithdrawal \"Make deposits and withdrawals\")]\n",
    "\n",
    "The [`throw`](../language-reference/keywords/throw.md) statement **throws** an exception. Execution of the current method ends, and will resume when a matching `catch` block is found. You'll add a `catch` block to test this code a little later on.\n",
    "\n",
    "The constructor should get one change so that it adds an initial transaction, rather than updating the balance directly. Since you already wrote the `MakeDeposit` method, call it from your constructor. The finished constructor should look like this:\n",
    "\n",
    "[!code-csharp[Constructor](../../../samples/csharp/classes-quickstart/BankAccount.cs#Constructor \"The final version of the constructor\")]\n",
    "\n",
    "<xref:System.DateTime.Now?displayProperty=nameWithType> is a property that returns the current date and time. Test this by adding a few deposits and withdrawals in your `Main` method:"
   ]
  },
  {
   "cell_type": "code",
   "execution_count": null,
   "metadata": {
    "attributes": {
     "classes": [
      "csharp"
     ],
     "id": ""
    }
   },
   "outputs": [],
   "source": [
    "account.MakeWithdrawal(500, DateTime.Now, \"Rent payment\");\n",
    "Console.WriteLine(account.Balance);\n",
    "account.MakeDeposit(100, DateTime.Now, \"friend paid me back\");\n",
    "Console.WriteLine(account.Balance);"
   ]
  },
  {
   "cell_type": "markdown",
   "metadata": {},
   "source": [
    "Next, test that you are catching error conditions by trying to create an account with a negative balance:"
   ]
  },
  {
   "cell_type": "code",
   "execution_count": null,
   "metadata": {
    "attributes": {
     "classes": [
      "csharp"
     ],
     "id": ""
    }
   },
   "outputs": [],
   "source": [
    "// Test that the initial balances must be positive:\n",
    "try\n",
    "{\n",
    "    var invalidAccount = new BankAccount(\"invalid\", -55);\n",
    "}\n",
    "catch (ArgumentOutOfRangeException e)\n",
    "{\n",
    "    Console.WriteLine(\"Exception caught creating account with negative balance\");\n",
    "    Console.WriteLine(e.ToString());\n",
    "}"
   ]
  },
  {
   "cell_type": "markdown",
   "metadata": {},
   "source": [
    "You use the [`try` and `catch` statements](../language-reference/keywords/try-catch.md) to mark a block of code that may throw exceptions, and to catch those errors that you expect. You can use the same technique to test the code that throws for a negative balance:"
   ]
  },
  {
   "cell_type": "code",
   "execution_count": null,
   "metadata": {
    "attributes": {
     "classes": [
      "csharp"
     ],
     "id": ""
    }
   },
   "outputs": [],
   "source": [
    "// Test for a negative balance\n",
    "try\n",
    "{\n",
    "    account.MakeWithdrawal(750, DateTime.Now, \"Attempt to overdraw\");\n",
    "}\n",
    "catch (InvalidOperationException e)\n",
    "{\n",
    "    Console.WriteLine(\"Exception caught trying to overdraw\");\n",
    "    Console.WriteLine(e.ToString());\n",
    "}"
   ]
  },
  {
   "cell_type": "markdown",
   "metadata": {},
   "source": [
    "## Challenge - log all transactions\n",
    "\n",
    "To finish this quickstart, you can write the `GetAccountHistory` method that creates a `string` for the transaction history. add this method to the `BankAccount` type:\n",
    "\n",
    "[!code-csharp[History](../../../samples/csharp/classes-quickstart/BankAccount.cs#History \"Display transaction history\")]\n",
    "\n",
    "This uses the <xref:System.Text.StringBuilder> class to format a string that contains one line for each transaction. You've seen the string formatting code earlier in these quickstarts. One new character is `\\t`. That inserts a tab to format the output.\n",
    "\n",
    "Add this line to test it in **Program.cs**:"
   ]
  },
  {
   "cell_type": "code",
   "execution_count": null,
   "metadata": {
    "attributes": {
     "classes": [
      "csharp"
     ],
     "id": ""
    }
   },
   "outputs": [],
   "source": [
    "Console.WriteLine(account.GetAccountHistory());"
   ]
  },
  {
   "cell_type": "markdown",
   "metadata": {},
   "source": [
    "## Next Steps\n",
    "\n",
    "If you got stuck, you can see the source for this quickstart [in our GitHub repo](https://github.com/dotnet/samples/tree/master/csharp/classes-quickstart/)\n",
    "\n",
    "Congratulations, you've finished all our Quickstarts. If you're eager to learn more, try our [tutorials](../tutorials/index.md)"
   ]
  },
  {
   "cell_type": "code",
   "execution_count": null,
   "metadata": {},
   "outputs": [],
   "source": []
  }
 ],
 "metadata": {
  "kernelspec": {
   "display_name": "C#",
   "language": "csharp",
   "name": "icsharpkernel"
  },
  "language": "csharp",
  "language_info": {
   "codemirror_mode": {
    "name": "ipython",
    "version": 3
   },
   "file_extension": ".py",
   "mimetype": "text/x-python",
   "name": "python",
   "nbconvert_exporter": "python",
   "pygments_lexer": "ipython3",
   "version": "3.6.4"
  }
 },
 "nbformat": 4,
 "nbformat_minor": 2
}
