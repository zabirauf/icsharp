{
 "cells": [
  {
   "cell_type": "markdown",
   "metadata": {},
   "source": [
    "# NOTE: the links in this notebook are currently broken - a fix will be rolled out soon.  Apologies for the inconvenience!"
   ]
  },
  {
   "cell_type": "code",
   "execution_count": null,
   "metadata": {
    "collapsed": true
   },
   "outputs": [],
   "source": []
  },
  {
   "cell_type": "markdown",
   "metadata": {},
   "source": [
    "\n",
    "### Table of contents\n",
    "\n",
    "## [What are Azure Notebooks?](#intro_about)\n",
    "\n",
    "## [Where can I find samples and interesting notebooks?](#intro_samples)\n",
    "\n",
    "## [An overview of using Jupyter](#using_jupyter)\n",
    "\n",
    "## [Resources](#intro_resources)"
   ]
  },
  {
   "cell_type": "markdown",
   "metadata": {},
   "source": [
    "---\n",
    "## What are Azure Notebooks? <a id='intro_about'></a>"
   ]
  },
  {
   "cell_type": "markdown",
   "metadata": {},
   "source": [
    "Azure Notebooks is a hosted service for [Jupyter Notebooks](#jupyter) that requires no installation. It enables you to get started quickly on prototyping, data science, academic research, or learning to program Python or R. You can combine code, markdown, images, videos, graphs, all in one format.\n",
    "\n",
    "Best of all this service is free to use. If you are:\n",
    "  * a teacher and need a hassle-free Python/R environment for classes\n",
    "  * giving a webinar and don't want attendees to spend 45 mins installing software\n",
    "  * dev or hobbyst and need a code scratchpad quickly\n",
    "  * a data scientist and need a full R, Python (Anaconda) environment\n",
    "\n",
    "We think Azure Notebooks can empower you to accomplish your work and achieve more."
   ]
  },
  {
   "cell_type": "markdown",
   "metadata": {},
   "source": [
    "---\n",
    "# Where can I find samples and interesting notebooks? <a id='intro_samples'></a>"
   ]
  },
  {
   "cell_type": "markdown",
   "metadata": {},
   "source": [
    "We have a few curated samples for you to start on but there are also a few external sources of good samples.\n",
    "\n",
    "If you are brand new to notebooks, the following notebooks are most interesting:\n",
    "\n",
    "* [The samples library on Azure Notebooks](https://notebooks.azure.com/Microsoft/libraries/samples) provides a great set of starter notebooks.\n",
    "\n",
    "* [Intro to Jupyter notebooks](http://nbviewer.jupyter.org/github/jupyter/notebook/blob/master/docs/source/examples/Notebook/Notebook%20Basics.ipynb)\n",
    "* [Intro to Data Science](https://github.com/jakevdp/PythonDataScienceHandbook/tree/master/code_listings) by Jake Vanderplas\n",
    "\n",
    "\n",
    "There are thousands and thousands of fantastic notebooks for just about any field...\n",
    "\n",
    "* See the Sample notebooks on [Azure Notebooks](https://notebooks.azure.com/#sample-redirect) front page\n",
    "* A [curated list of interesting Jupyter notebooks](https://github.com/ipython/ipython/wiki/A-gallery-of-interesting-IPython-Notebooks)"
   ]
  },
  {
   "cell_type": "markdown",
   "metadata": {},
   "source": [
    "---\n",
    "# An overview of using Jupyter <a id='using_jupyter'></a>"
   ]
  },
  {
   "cell_type": "markdown",
   "metadata": {},
   "source": [
    "Jupyter is a powerful execution environment based in your browser. With this power though comes a slight learning curve. Hopefully this brief overview helps you to get started on Azure Notebooks.\n",
    "\n",
    "Azure Notebooks provides a few different Jupyter Kernels, or execution environments. The environments provided are\n",
    "* R\n",
    "* Python 2\n",
    "* Python 3\n",
    "\n",
    "\n",
    "<b>This is a little diagram of the anatomy of the notebook toolbar:</b><br>\n"
   ]
  },
  {
   "cell_type": "markdown",
   "metadata": {},
   "source": [
    "<img alt='Image of Jupyter interface with descriptive labels' src=\"https://raw.githubusercontent.com/michhar/python-jupyter-notebooks/master/general/nb_diagram.png\"/>"
   ]
  },
  {
   "cell_type": "markdown",
   "metadata": {},
   "source": [
    "## Shortcuts!\n",
    "* A complete list can be found under help, but these are some of the more commonly used shortcuts. There is a *command* mode and *edit* mode much like the unix editor `vi/vim`.  `Esc` will take you into command mode.  `Enter` (when a cell is highlighted) will take you into edit mode.\n",
    "\n",
    "Mode  |  What  | Shortcut\n",
    "------------- | ------------- | -------------\n",
    "Command (Press `Esc` to enter)  | Run cell | Shift-Enter\n",
    "Command  | Add cell below | B\n",
    "Command | Add cell above | A\n",
    "Command | Delete a cell | d-d\n",
    "Command | Go into edit mode | Enter\n",
    "Edit (Press `Enter` to enable) | Run cell | Shift-Enter\n",
    "Edit | Indent | Clrl-]\n",
    "Edit | Unindent | Ctrl-[\n",
    "Edit | Comment section | Ctrl-/\n",
    "Edit | Function introspection | Shift-Tab\n",
    "\n",
    "**You can also left-double-click with the mouse to \"Enter\" a markdown cell for modifying text**"
   ]
  },
  {
   "cell_type": "markdown",
   "metadata": {},
   "source": [
    "\n",
    "\n",
    "\n",
    "## Tutorials: \n",
    "* [Capturing Output](https://notebooks.azure.com/library/Welcome/create_server?dest=/notebooks/Capturing%20Output.ipynb)\n",
    "* [Cell Magics](https://notebooks.azure.com/library/Welcome/create_server?dest=/notebooks/Cell%20Magics.ipynb)\n",
    "* [Custom Display Logic](https://notebooks.azure.com/library/Welcome/create_server?dest=/notebooks/Custom%20Display%20Logic.ipynb)\n",
    "* [Plotting in the Notebook](https://notebooks.azure.com/library/Welcome/create_server?dest=/notebooks/Plotting%20in%20the%20Notebook.ipynb)\n",
    "* [Rich Output](https://notebooks.azure.com/library/Welcome/create_server?dest=/notebooks/Rich%20Output.ipynb)\n",
    "* [Script Magics](https://notebooks.azure.com/library/Welcome/create_server?dest=/notebooks/Script%20Magics.ipynb)"
   ]
  },
  {
   "cell_type": "markdown",
   "metadata": {},
   "source": [
    "---\n",
    "# Resources <a id='intro_resources'></a>"
   ]
  },
  {
   "cell_type": "markdown",
   "metadata": {
    "collapsed": true
   },
   "source": [
    "## Jupyter <a id='jupyter'></a>\n",
    "\n",
    "* Main Jupyter site is at [Jupyter.org](http://jupyter.org).  Here you'll find specs, tutorials, etc.\n",
    "* Learn Jupyter on YouTube: \n",
    "  * https://youtu.be/6zQhUlMYea4?list=PLLj6w0Thbv00Ij2yYC5PJOUaD_xuQcm7O\n",
    "  * Cell magics https://youtu.be/zxkdO07L29Q\n",
    "  * Making slide shows with executable code: https://youtu.be/EOpcxy0RA1A\n",
    "  * All about Jupyter: https://www.youtube.com/watch?v=GMKZD1Ohlzk \n",
    "\n",
    "## Service limitations\n",
    "\n",
    "Our service does have a few limitations\n",
    "\n",
    "* You are limited to 4 Gb of memory\n",
    "* You'll be signed out after 1 hour of inactivity, though your notebook is saved continuously\n",
    "* Some network limitations exist. Most common sites are open, but if you experience an access denied on a web request, please request we open it by contacting us at nbhelp@microsoft.com.\n",
    "\n",
    "## Support for Azure Notebooks\n",
    "\n",
    "* Please send mail to: nbhelp@microsoft.com\n",
    "\n",
    "## Data sources\n",
    "\n",
    "There is a lot of data available online - it depends what you want to do.  A couple of resources:\n",
    "\n",
    "* https://blog.bigml.com/list-of-public-data-sources-fit-for-machine-learning/\n",
    "* http://www.forbes.com/sites/bernardmarr/2016/02/12/big-data-35-brilliant-and-free-data-sources-for-2016/#469939567961 \n",
    "\n",
    "Note that data must be accessible to the service - ideally on Github, Dropbox, OneDrive, Azure blobs, SQLAzure, ...\n",
    "\n",
    "## Azure Machine Learning\n",
    "\n",
    "* If you want to get deeper into ML, especially with R (using Microsoft's scalable R), try [Cortana Intelligence](https://www.microsoft.com/en-us/cloud-platform/cortana-intelligence-suite), and [Azure ML Studio](https://studio.azureml.net/).\n",
    "\n",
    "## IDEs for Python and R\n",
    "\n",
    "Jupyter does not support rich debugging / profiling / etc. features of traditional IDE's.  You can always save your notebook file as code and import and debug it.  Some IDE's have indirect support for Jupyter as well.  Check out:\n",
    "\n",
    "* [Python Tools for Visual Studio](https://www.visualstudio.com/vs/python/)\n",
    "* [PyCharm](https://www.jetbrains.com/pycharm/)\n",
    "* [R Tools for Visual Studio](https://www.visualstudio.com/vs/rtvs/)\n",
    "* [RStudio](http://www.rstudio.com)\n",
    "\n",
    "\n"
   ]
  }
 ],
 "metadata": {
  "kernelspec": {
   "display_name": "Python 3",
   "language": "python",
   "name": "python3"
  },
  "language_info": {
   "codemirror_mode": {
    "name": "ipython",
    "version": 3
   },
   "file_extension": ".py",
   "mimetype": "text/x-python",
   "name": "python",
   "nbconvert_exporter": "python",
   "pygments_lexer": "ipython3",
   "version": "3.6.4"
  }
 },
 "nbformat": 4,
 "nbformat_minor": 1
}
