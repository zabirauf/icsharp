{
 "cells": [
  {
   "cell_type": "markdown",
   "metadata": {},
   "source": [
    "# C# for Azure Notebooks\n",
    "\n",
    "<img style=style=\"width: 300px; float: top\" src='logo.jpg' alt=\"Drawing\" />\n",
    "\n",
    "C# is an elegant and type-safe object-oriented language that enables developers to build a variety of secure and robust applications that run on the .NET Framework. You can use C# to create Windows client applications, XML Web services, distributed components, client-server applications, database applications, and much, much more. Visual C# provides an advanced code editor, convenient user interface designers, integrated debugger, and many other tools to make it easier to develop applications based on the C# language and the .NET Framework.\n",
    "\n",
    "It is a general-purpose language designed for developing apps on the Microsoft platform and requires the .NET framework on Windows to work. C# is often thought of as a hybrid that takes the best of C and C++ to create a truly modernized language. Although the .NET framework supports several other coding languages, C# has quickly become one of the most popular and is currently ranked as a [Top 5](https://spectrum.ieee.org/static/interactive-the-top-programming-languages-2017) most used language by IEEE.\n",
    "\n",
    "This notebook [quickstarts](https://docs.microsoft.com/en-us/dotnet/csharp/quick-starts/) can be used by a variety of audiences. Depending on your experience with programming, or with the C# language and .NET, you may wish to explore different sections of this notebook. The examples are kept simple, so if you are a brand-new developer learning C# for the first time, that's fine too! \n",
    "\n",
    "The [C# Language Reference](https://docs.microsoft.com/en-us/dotnet/csharp/language-reference/) is a reference for the C# language, and the [F# Guide](https://docs.microsoft.com/en-us/dotnet/csharp/index) covers general topics.  [C# Walkthroughs](https://docs.microsoft.com/en-us/dotnet/csharp/walkthroughs) give step-by-step instructions for common scenarios, which makes them a good place to start learning about the product or a particular feature area.\n",
    "\n",
    "To learn more about how to use Jupyter notebooks, see [the Jupyter documentation](http://jupyter-notebook.readthedocs.io/) and the [Jupyter keyboard shortcuts](https://www.cheatography.com/weidadeyue/cheat-sheets/jupyter-notebook/). You can install the C# and Jupyter tooling locally using [IcSharp](https://github.com/zabirauf/icsharp). For a more detailed tour of the language, see [C# Tour](https://docs.microsoft.com/en-us/dotnet/csharp/tour-of-csharp/)\n",
    "\n",
    "This notebook demonstrates the features of the C# kernel for Jupyter Notebook.\n",
    "\n",
    "\n",
    "# Introduction #\n",
    "\n",
    "### Hello world!\n",
    "\n",
    "In the Hello world example, you'll create the most basic C# program. You'll explore the string type and how to work with text."
   ]
  },
  {
   "cell_type": "code",
   "execution_count": 7,
   "metadata": {},
   "outputs": [
    {
     "data": {
      "text/html": [
       "<font style=\"colorBlack\">Hello World!<br /></font>"
      ],
      "text/plain": [
       "Hello World!\n",
       "\n"
      ]
     },
     "execution_count": 7,
     "metadata": {},
     "output_type": "execute_result"
    }
   ],
   "source": [
    "using System;\n",
    "\n",
    "Console.WriteLine(\"Hello World!\");"
   ]
  },
  {
   "cell_type": "markdown",
   "metadata": {},
   "source": [
    "# Numbers in C# \n",
    "\n",
    "This tutorial teaches you about the number types in C# interactively. You'll write small amounts of code, then you'll compile and run that code. The tutorial contains a series of lessons that explore numbers and math operations in C#. These lessons teach you the fundamentals of the C# language.\n",
    "\n",
    "This tutorial expects you to have a machine you can use for development. The .NET topic [Get Started in 10 minutes](https://www.microsoft.com/net/core) has instructions for setting up your local development environment on Mac, PC or Linux. \n",
    "\n",
    "## Explore integer math\n",
    "\n"
   ]
  },
  {
   "cell_type": "code",
   "execution_count": 8,
   "metadata": {
    "attributes": {
     "classes": [
      "csharp"
     ],
     "id": ""
    }
   },
   "outputs": [
    {
     "data": {
      "text/html": [
       "<font style=\"colorBlack\">24<br /></font>"
      ],
      "text/plain": [
       "24\n",
       "\n"
      ]
     },
     "execution_count": 8,
     "metadata": {},
     "output_type": "execute_result"
    }
   ],
   "source": [
    "int a = 18;\n",
    "int b = 6;\n",
    "int c = a + b;\n",
    "Console.WriteLine(c);"
   ]
  },
  {
   "cell_type": "markdown",
   "metadata": {},
   "source": [
    "\n",
    "You've just seen one of the fundamental math operations with integers. The `int` type represents an **integer**, a positive or negative whole number. You use the `+` symbol for addition. Other common mathematical operations for integers include:\n",
    "\n",
    "- `-` for subtraction\n",
    "- `*` for multiplication\n",
    "- `/` for division\n",
    "\n",
    "Start by exploring those different operations. Add these lines after the line that writes the value of `c`:"
   ]
  },
  {
   "cell_type": "code",
   "execution_count": 9,
   "metadata": {
    "attributes": {
     "classes": [
      "csharp"
     ],
     "id": ""
    }
   },
   "outputs": [
    {
     "data": {
      "text/html": [
       "<font style=\"colorBlack\">12<br />108<br />3<br /></font>"
      ],
      "text/plain": [
       "12\n",
       "108\n",
       "3\n",
       "\n"
      ]
     },
     "execution_count": 9,
     "metadata": {},
     "output_type": "execute_result"
    }
   ],
   "source": [
    "c = a - b;\n",
    "Console.WriteLine(c);\n",
    "c = a * b;\n",
    "Console.WriteLine(c);\n",
    "c = a / b;\n",
    "Console.WriteLine(c);"
   ]
  },
  {
   "cell_type": "markdown",
   "metadata": {},
   "source": [
    "    \n",
    "You can also experiment by performing multiple mathematics operations in the same line, if you'd like. Try `c = a + b - 12 * 17;` for example. Mixing variables and constant numbers is allowed.\n",
    "\n",
    "> As you explore C# (or any programming language), you'll\n",
    "> make mistakes when you write code. The **compiler** will\n",
    "> find those errors and report them to you. When the output\n",
    "> contains error messages, look closely at the example code\n",
    "> and the code in your window to see what to fix.\n",
    "> That exercise will help you learn the structure of C# code.     \n",
    "\n",
    "You've finished the first step. Before you start the next section, let's move the current code into a separate method. That makes it easier to start working with a new example. Name your method to `WorkingWithIntegers` and write a new `Program` class. When you have finished, your code should look like this:"
   ]
  },
  {
   "cell_type": "code",
   "execution_count": 10,
   "metadata": {
    "attributes": {
     "classes": [
      "csharp"
     ],
     "id": ""
    }
   },
   "outputs": [
    {
     "data": {
      "text/html": [
       "<font style=\"colorBlack\">24<br />12<br />108<br />3<br /></font>"
      ],
      "text/plain": [
       "24\n",
       "12\n",
       "108\n",
       "3\n",
       "\n"
      ]
     },
     "execution_count": 10,
     "metadata": {},
     "output_type": "execute_result"
    }
   ],
   "source": [
    "using System;\n",
    "\n",
    "\n",
    "class Program\n",
    "{\n",
    "    public static void WorkingWithIntegers()\n",
    "    {\n",
    "        int a = 18;\n",
    "        int b = 6;\n",
    "        int c = a + b;\n",
    "        Console.WriteLine(c);\n",
    "        c = a - b;\n",
    "        Console.WriteLine(c);\n",
    "        c = a * b;\n",
    "        Console.WriteLine(c);\n",
    "        c = a / b;\n",
    "        Console.WriteLine(c);\n",
    "    }\n",
    "}\n",
    "\n",
    "Program.WorkingWithIntegers();"
   ]
  },
  {
   "cell_type": "markdown",
   "metadata": {},
   "source": [
    "## Explore order of operations\n",
    "\n",
    "Comment out the call to `WorkingWithIntegers()`. It will make the output less cluttered as you work in this section:"
   ]
  },
  {
   "cell_type": "code",
   "execution_count": 11,
   "metadata": {
    "attributes": {
     "classes": [
      "csharp"
     ],
     "id": ""
    }
   },
   "outputs": [],
   "source": [
    "//WorkingWithIntegers();"
   ]
  },
  {
   "cell_type": "markdown",
   "metadata": {},
   "source": [
    "The `//` starts a **comment** in C#. Comments are any text you want to keep in your source code but not execute as code. The compiler does not generate any executable code from comments.\n",
    "\n",
    "The C# language defines the precedence of different mathematics operations\n",
    "with rules consistent with the rules you learned in mathematics.\n",
    "Multiplication and division take precedence over addition and subtraction."
   ]
  },
  {
   "cell_type": "code",
   "execution_count": 12,
   "metadata": {
    "attributes": {
     "classes": [
      "csharp"
     ],
     "id": ""
    }
   },
   "outputs": [
    {
     "data": {
      "text/html": [
       "<font style=\"colorBlack\">13<br />18<br /></font>"
      ],
      "text/plain": [
       "13\n",
       "18\n",
       "\n"
      ]
     },
     "execution_count": 12,
     "metadata": {},
     "output_type": "execute_result"
    }
   ],
   "source": [
    "int a = 5;\n",
    "int b = 4;\n",
    "int c = 2;\n",
    "int d = a + b * c;\n",
    "Console.WriteLine(d);\n",
    "\n",
    "// The output demonstrates that the multiplication is performed before the addition.\n",
    "\n",
    "// You can force a different order of operation by adding parentheses around\n",
    "// the operation or operations you want performed first. Add the following\n",
    "// lines and run again:\n",
    "\n",
    "d = (a  + b) * c;\n",
    "Console.WriteLine(d);"
   ]
  },
  {
   "cell_type": "markdown",
   "metadata": {},
   "source": [
    "Explore more by combining many different operations. Add something like\n",
    "the following lines."
   ]
  },
  {
   "cell_type": "code",
   "execution_count": 13,
   "metadata": {
    "attributes": {
     "classes": [
      "csharp"
     ],
     "id": ""
    }
   },
   "outputs": [
    {
     "data": {
      "text/html": [
       "<font style=\"colorBlack\">25<br /></font>"
      ],
      "text/plain": [
       "25\n",
       "\n"
      ]
     },
     "execution_count": 13,
     "metadata": {},
     "output_type": "execute_result"
    }
   ],
   "source": [
    "d = (a + b) - 6 * c + (12 * 4) / 3 + 12;\n",
    "Console.WriteLine(d);"
   ]
  },
  {
   "cell_type": "markdown",
   "metadata": {},
   "source": [
    "You may have noticed an interesting behavior for integers. Integer\n",
    "division always produces an integer result, even when you'd expect the result to include a decimal or fractional portion.\n",
    "\n",
    "If you haven't seen this behavior, try the following code:"
   ]
  },
  {
   "cell_type": "code",
   "execution_count": 14,
   "metadata": {
    "attributes": {
     "classes": [
      "csharp"
     ],
     "id": ""
    }
   },
   "outputs": [
    {
     "data": {
      "text/html": [
       "<font style=\"colorBlack\">3<br /></font>"
      ],
      "text/plain": [
       "3\n",
       "\n"
      ]
     },
     "execution_count": 14,
     "metadata": {},
     "output_type": "execute_result"
    }
   ],
   "source": [
    "int e = 7;\n",
    "int f = 4;\n",
    "int g = 3;\n",
    "int h = (e  + f) / g;\n",
    "Console.WriteLine(h);"
   ]
  },
  {
   "cell_type": "markdown",
   "metadata": {},
   "source": [
    "Before moving on, let's take all the code you've written in this\n",
    "section and put it in a new method. Call that new method `OrderPrecedence`.\n",
    "You should end up with something like this:"
   ]
  },
  {
   "cell_type": "code",
   "execution_count": 15,
   "metadata": {
    "attributes": {
     "classes": [
      "csharp"
     ],
     "id": ""
    }
   },
   "outputs": [
    {
     "data": {
      "text/html": [
       "<font style=\"colorBlack\">24<br />12<br />108<br />3<br /> <br />13<br />18<br />25<br />3<br /></font>"
      ],
      "text/plain": [
       "24\n",
       "12\n",
       "108\n",
       "3\n",
       " \n",
       "13\n",
       "18\n",
       "25\n",
       "3\n",
       "\n"
      ]
     },
     "execution_count": 15,
     "metadata": {},
     "output_type": "execute_result"
    }
   ],
   "source": [
    "using System;\n",
    "\n",
    "\n",
    "class Program\n",
    "{\n",
    "    public static void WorkingWithIntegers()\n",
    "    {\n",
    "        int a = 18;\n",
    "        int b = 6;\n",
    "        int c = a + b;\n",
    "        Console.WriteLine(c);\n",
    "        c = a - b;\n",
    "        Console.WriteLine(c);\n",
    "        c = a * b;\n",
    "        Console.WriteLine(c);\n",
    "        c = a / b;\n",
    "        Console.WriteLine(c);\n",
    "    }\n",
    "\n",
    "   public static void OrderPrecedence()\n",
    "    {   \n",
    "        int a = 5;\n",
    "        int b = 4;\n",
    "        int c = 2;\n",
    "        int d = a + b * c;\n",
    "        Console.WriteLine(d);\n",
    "\n",
    "        d = (a  + b) * c;\n",
    "        Console.WriteLine(d);\n",
    "\n",
    "        d = (a + b) - 6 * c + (12 * 4) / 3 + 12;\n",
    "        Console.WriteLine(d);\n",
    "\n",
    "        int e = 7;\n",
    "        int f = 4;\n",
    "        int g = 3;\n",
    "        int h = (e  + f) / g;\n",
    "        Console.WriteLine(h);\n",
    "    }\n",
    "}\n",
    "\n",
    "Program.WorkingWithIntegers();\n",
    "Console.WriteLine(\" \");\n",
    "Program.OrderPrecedence();"
   ]
  },
  {
   "cell_type": "markdown",
   "metadata": {},
   "source": [
    "## Explore integer precision and limits\n",
    "That last sample showed you that integer division truncates the result.\n",
    "You can get the **remainder** by using the **modulo** operator, the `%` character. Try the following code:"
   ]
  },
  {
   "cell_type": "code",
   "execution_count": 16,
   "metadata": {
    "attributes": {
     "classes": [
      "csharp"
     ],
     "id": ""
    }
   },
   "outputs": [
    {
     "data": {
      "text/html": [
       "<font style=\"colorBlack\">quotient: 3<br />remainder: 2<br /></font>"
      ],
      "text/plain": [
       "quotient: 3\n",
       "remainder: 2\n",
       "\n"
      ]
     },
     "execution_count": 16,
     "metadata": {},
     "output_type": "execute_result"
    }
   ],
   "source": [
    "int a = 7;\n",
    "int b = 4;\n",
    "int c = 3;\n",
    "int d = (a  + b) / c;\n",
    "int e = (a + b) % c;\n",
    "Console.WriteLine($\"quotient: {d}\");\n",
    "Console.WriteLine($\"remainder: {e}\");"
   ]
  },
  {
   "cell_type": "markdown",
   "metadata": {},
   "source": [
    "The C# integer type differs from mathematical integers in one other\n",
    "way: the `int` type has minimum and maximum limits."
   ]
  },
  {
   "cell_type": "code",
   "execution_count": 17,
   "metadata": {
    "attributes": {
     "classes": [
      "csharp"
     ],
     "id": ""
    }
   },
   "outputs": [
    {
     "data": {
      "text/html": [
       "<font style=\"colorBlack\">The range of integers is -2147483648 to 2147483647<br /></font>"
      ],
      "text/plain": [
       "The range of integers is -2147483648 to 2147483647\n",
       "\n"
      ]
     },
     "execution_count": 17,
     "metadata": {},
     "output_type": "execute_result"
    }
   ],
   "source": [
    "int max = int.MaxValue;\n",
    "int min = int.MinValue;\n",
    "Console.WriteLine($\"The range of integers is {min} to {max}\");"
   ]
  },
  {
   "cell_type": "markdown",
   "metadata": {},
   "source": [
    "If a calculation produces a value that exceeds those limits, you\n",
    "have an **underflow** or **overflow** condition. The answer appears\n",
    "to wrap from one limit to the other."
   ]
  },
  {
   "cell_type": "code",
   "execution_count": 18,
   "metadata": {
    "attributes": {
     "classes": [
      "csharp"
     ],
     "id": ""
    }
   },
   "outputs": [
    {
     "data": {
      "text/html": [
       "<font style=\"colorBlack\">An example of overflow: -2147483646<br /></font>"
      ],
      "text/plain": [
       "An example of overflow: -2147483646\n",
       "\n"
      ]
     },
     "execution_count": 18,
     "metadata": {},
     "output_type": "execute_result"
    }
   ],
   "source": [
    "int what = max + 3;\n",
    "Console.WriteLine($\"An example of overflow: {what}\");"
   ]
  },
  {
   "cell_type": "markdown",
   "metadata": {},
   "source": [
    "Notice that the answer is very close to the minimum (negative) integer. It's\n",
    "the same as `min + 2`. \n",
    "The addition operation **overflowed** the allowed values for integers.\n",
    "The answer is a very large negative number because an overflow \"wraps around\"\n",
    "from the largest possible integer value to the smallest.\n",
    "\n",
    "There are other numeric types with different limits and precision that you\n",
    "would use when the `int` type doesn't meet your needs. Let's explore those next.\n",
    "\n",
    "## Work with the double type\n",
    "\n",
    "The `double` numeric type represents a double-precision floating point\n",
    "number. Those terms may be new to you. A **floating point** number is\n",
    "useful to represent non-integral numbers that may be very large or small\n",
    "in magnitude. **Double-precision** means that these numbers are stored\n",
    "using greater precision than **single-precision**. On modern computers,\n",
    "it is more common to use double precision than single precision numbers.\n",
    "Let's explore. Add the following code and see the result:"
   ]
  },
  {
   "cell_type": "code",
   "execution_count": 19,
   "metadata": {
    "attributes": {
     "classes": [
      "csharp"
     ],
     "id": ""
    }
   },
   "outputs": [
    {
     "data": {
      "text/html": [
       "<font style=\"colorBlack\">4.5<br /></font>"
      ],
      "text/plain": [
       "4.5\n",
       "\n"
      ]
     },
     "execution_count": 19,
     "metadata": {},
     "output_type": "execute_result"
    }
   ],
   "source": [
    "double a = 5;\n",
    "double b = 4;\n",
    "double c = 2;\n",
    "double d = (a  + b) / c;\n",
    "Console.WriteLine(d);"
   ]
  },
  {
   "cell_type": "markdown",
   "metadata": {},
   "source": [
    "Notice that the answer includes the decimal portion of the quotient. Try a slightly\n",
    "more complicated expression with doubles:"
   ]
  },
  {
   "cell_type": "code",
   "execution_count": 20,
   "metadata": {
    "attributes": {
     "classes": [
      "csharp"
     ],
     "id": ""
    }
   },
   "outputs": [
    {
     "data": {
      "text/html": [
       "<font style=\"colorBlack\">5.25<br /></font>"
      ],
      "text/plain": [
       "5.25\n",
       "\n"
      ]
     },
     "execution_count": 20,
     "metadata": {},
     "output_type": "execute_result"
    }
   ],
   "source": [
    "double e = 19;\n",
    "double f = 23;\n",
    "double g = 8;\n",
    "double h = (e  + f) / g;\n",
    "Console.WriteLine(h);"
   ]
  },
  {
   "cell_type": "markdown",
   "metadata": {},
   "source": [
    "The range of a double value is much greater than integer values. Try the following\n",
    "code below what you've written so far:"
   ]
  },
  {
   "cell_type": "code",
   "execution_count": 21,
   "metadata": {
    "attributes": {
     "classes": [
      "csharp"
     ],
     "id": ""
    }
   },
   "outputs": [
    {
     "data": {
      "text/html": [
       "<font style=\"colorBlack\">The range of double is -1.79769313486232E+308 to 1.79769313486232E+308<br /></font>"
      ],
      "text/plain": [
       "The range of double is -1.79769313486232E+308 to 1.79769313486232E+308\n",
       "\n"
      ]
     },
     "execution_count": 21,
     "metadata": {},
     "output_type": "execute_result"
    }
   ],
   "source": [
    "double max = double.MaxValue;\n",
    "double min = double.MinValue;\n",
    "Console.WriteLine($\"The range of double is {min} to {max}\");"
   ]
  },
  {
   "cell_type": "markdown",
   "metadata": {},
   "source": [
    "These values are printed out in scientific notation. The number to\n",
    "the left of the `E` is the significand. The number to the right is the exponent,\n",
    "as a power of 10. \n",
    "\n",
    "Just like decimal numbers in math, doubles in C# can have rounding errors. Try this code:"
   ]
  },
  {
   "cell_type": "code",
   "execution_count": 22,
   "metadata": {
    "attributes": {
     "classes": [
      "csharp"
     ],
     "id": ""
    }
   },
   "outputs": [
    {
     "data": {
      "text/html": [
       "<font style=\"colorBlack\">0.333333333333333<br /></font>"
      ],
      "text/plain": [
       "0.333333333333333\n",
       "\n"
      ]
     },
     "execution_count": 22,
     "metadata": {},
     "output_type": "execute_result"
    }
   ],
   "source": [
    "double third = 1.0 / 3.0;\n",
    "Console.WriteLine(third);"
   ]
  },
  {
   "cell_type": "markdown",
   "metadata": {},
   "source": [
    "You know that `0.3` repeating is not exactly the same as `1/3`.\n",
    "\n",
    "***Challenge***\n",
    "\n",
    "Try other calculations with large numbers, small numbers, multiplication\n",
    "and division using the `double` type.  Try more complicated calculations.\n",
    "\n",
    "After you've spent some time with the challenge, take the code you've written\n",
    "and place it in a new method. Name that new method `WorkWithDoubles`.\n",
    "\n",
    "## Work with fixed point types\n",
    "\n",
    "You've seen the basic numeric types in C#: integers and doubles.  There is one\n",
    "other type to learn: the `decimal` type. The `decimal` type has a smaller\n",
    "range but greater precision than `double`. The term **fixed point** means\n",
    "that the decimal point (or binary point) doesn't move. Let's take a look:"
   ]
  },
  {
   "cell_type": "code",
   "execution_count": 23,
   "metadata": {
    "attributes": {
     "classes": [
      "csharp"
     ],
     "id": ""
    }
   },
   "outputs": [
    {
     "data": {
      "text/html": [
       "<font style=\"colorBlack\">The range of the decimal type is -79228162514264337593543950335 to 79228162514264337593543950335<br /></font>"
      ],
      "text/plain": [
       "The range of the decimal type is -79228162514264337593543950335 to 79228162514264337593543950335\n",
       "\n"
      ]
     },
     "execution_count": 23,
     "metadata": {},
     "output_type": "execute_result"
    }
   ],
   "source": [
    "decimal min = decimal.MinValue;\n",
    "decimal max = decimal.MaxValue;\n",
    "Console.WriteLine($\"The range of the decimal type is {min} to {max}\");"
   ]
  },
  {
   "cell_type": "markdown",
   "metadata": {},
   "source": [
    "Notice that the range is smaller than the `double` type. You can see the greater\n",
    "precision with the decimal type by trying the following code:"
   ]
  },
  {
   "cell_type": "code",
   "execution_count": 24,
   "metadata": {
    "attributes": {
     "classes": [
      "csharp"
     ],
     "id": ""
    }
   },
   "outputs": [
    {
     "data": {
      "text/html": [
       "<font style=\"colorBlack\">0.333333333333333<br />0.3333333333333333333333333333<br /></font>"
      ],
      "text/plain": [
       "0.333333333333333\n",
       "0.3333333333333333333333333333\n",
       "\n"
      ]
     },
     "execution_count": 24,
     "metadata": {},
     "output_type": "execute_result"
    }
   ],
   "source": [
    "double a = 1.0;\n",
    "double b = 3.0;\n",
    "Console.WriteLine(a / b);\n",
    "\n",
    "decimal c = 1.0M;\n",
    "decimal d = 3.0M;\n",
    "Console.WriteLine(c / d);"
   ]
  },
  {
   "cell_type": "markdown",
   "metadata": {},
   "source": [
    "The `M` suffix on the numbers is how you indicate that a constant should use the\n",
    "`decimal` type.\n",
    "\n",
    "Notice that the math using the decimal type has more digits to the right\n",
    "of the decimal point. \n",
    "\n",
    "***Challenge***\n",
    "\n",
    "Now that you've seen the different numeric types, write code that calculates\n",
    "the area of a circle whose radius is 2.50 centimeters. Remember that the area of a circle\n",
    "is the radius squared multiplied by PI. One hint: .NET contains a constant\n",
    "for PI, <xref:System.Math.PI?displayProperty=nameWithType> that you can use for that value. \n",
    "\n",
    "You should get an answer between 19 and 20.\n",
    "You can check your answer by [looking at the finished sample code on GitHub](https://github.com/dotnet/samples/tree/master/csharp/numbers-quickstart/Program.cs#L104-L106)\n",
    "\n",
    "Try some other formulas if you'd like. \n",
    "\n",
    "You've completed the \"Numbers in C#\" section. You can continue with\n",
    "the [Branches and loops](branches-and-loops-local.md) section in\n",
    "your own development environment.\n",
    "\n",
    "You can learn more about numbers in C# in the following topics:\n",
    "\n",
    "[Integral Types Table](../language-reference/keywords/integral-types-table.md)   \n",
    "[Floating-Point Types Table](../language-reference/keywords/floating-point-types-table.md)   \n",
    "[Built-In Types Table](../language-reference/keywords/built-in-types-table.md)   \n",
    "[Implicit Numeric Conversions Table](../language-reference/keywords/implicit-numeric-conversions-table.md)   \n",
    "[Explicit Numeric Conversions Table](../language-reference/keywords/explicit-numeric-conversions-table.md)"
   ]
  },
  {
   "cell_type": "markdown",
   "metadata": {},
   "source": [
    "---\n",
    "# Branches and loops\n",
    "\n",
    "This section teaches you how to write code that examines variables and changes the execution path based on those variables. You write C# code and see the results of compiling and running it. The section contains a series of lessons that explore branching and looping constructs in C#. These lessons teach you the fundamentals of the C# language.\n",
    "\n",
    "## Make decisions using the `if` statement\n",
    "\n"
   ]
  },
  {
   "cell_type": "code",
   "execution_count": 25,
   "metadata": {
    "attributes": {
     "classes": [
      "csharp"
     ],
     "id": ""
    }
   },
   "outputs": [
    {
     "data": {
      "text/html": [
       "<font style=\"colorBlack\">The answer is greater than 10.<br /></font>"
      ],
      "text/plain": [
       "The answer is greater than 10.\n",
       "\n"
      ]
     },
     "execution_count": 25,
     "metadata": {},
     "output_type": "execute_result"
    }
   ],
   "source": [
    "int a = 5;\n",
    "int b = 6;\n",
    "if (a + b > 10)\n",
    "    Console.WriteLine(\"The answer is greater than 10.\");"
   ]
  },
  {
   "cell_type": "markdown",
   "metadata": {},
   "source": [
    "Try this code by running the code in the your console window. You should see the message \"The answer is greater than 10.\" printed to your console.\n",
    "\n",
    "Modify the declaration of `b` so that the sum is less than 10:"
   ]
  },
  {
   "cell_type": "code",
   "execution_count": 26,
   "metadata": {
    "attributes": {
     "classes": [
      "csharp"
     ],
     "id": ""
    }
   },
   "outputs": [],
   "source": [
    "int b = 3;\n",
    "if (a + b > 10)\n",
    "    Console.WriteLine(\"The answer is greater than 10.\");"
   ]
  },
  {
   "cell_type": "markdown",
   "metadata": {},
   "source": [
    "Because the answer is less than 10, nothing is printed. The **condition** you're testing is false. You don't have any code to execute because you've only\n",
    "written one of the possible branches for an `if` statement: the true branch.\n",
    "\n",
    "> As you explore C# (or any programming language), you'll\n",
    "> make mistakes when you write code. The compiler will\n",
    "> find and report the errors. Look closely at the error \n",
    "> output and the code that generated the error. The compiler\n",
    "> error can usually help you find the problem.\n",
    "\n",
    "This first sample shows the power of `if` and Boolean types. A *Boolean* is a variable that can have one of two values: `true` or `false`. C# defines a special type, `bool` for Boolean variables. The `if` statement checks the value of a `bool`. When the value is `true`, the statement following the `if` executes. Otherwise, it is skipped.\n",
    "\n",
    "This process of checking conditions and executing statements based on those conditions is very powerful.\n",
    "\n",
    "## Make if and else work together\n",
    "\n",
    "To execute different code in both the true and false branches, you \n",
    "create an `else` branch that executes when the condition is false. Try this. Add the last two lines:"
   ]
  },
  {
   "cell_type": "code",
   "execution_count": 27,
   "metadata": {
    "attributes": {
     "classes": [
      "csharp"
     ],
     "id": ""
    }
   },
   "outputs": [
    {
     "data": {
      "text/html": [
       "<font style=\"colorBlack\">The answer is not greater than 10<br /></font>"
      ],
      "text/plain": [
       "The answer is not greater than 10\n",
       "\n"
      ]
     },
     "execution_count": 27,
     "metadata": {},
     "output_type": "execute_result"
    }
   ],
   "source": [
    "int a = 5;\n",
    "int b = 3;\n",
    "if (a + b > 10)\n",
    "    Console.WriteLine(\"The answer is greater than 10\");\n",
    "else\n",
    "    Console.WriteLine(\"The answer is not greater than 10\");"
   ]
  },
  {
   "cell_type": "markdown",
   "metadata": {},
   "source": [
    "The statement following the `else` keyword executes only when the condition being tested is `false`. Combining `if` and `else` with Boolean conditions provides all the power you need to handle both a `true` and a `false` condition.\n",
    "\n",
    "> [!IMPORTANT]\n",
    "> The indentation under the `if` and `else` statements is for human readers.\n",
    "> The C# language doesn't treat indentation or white space as significant. \n",
    "> The statement following the `if` or `else` keyword will be executed based\n",
    "> on the condition. All the samples in this section follow a common\n",
    "> practice to indent lines based on the control flow of statements.\n",
    "\n",
    "Because indentation is not significant, you need to use `{` and `}` to\n",
    "indicate when you want more than one statement to be part of the block\n",
    "that executes conditionally. C# programmers typically use those braces\n",
    "on all `if` and `else` clauses. The following example is the same as the one you\n",
    "just created. Modify your code above to match the following code:"
   ]
  },
  {
   "cell_type": "code",
   "execution_count": 28,
   "metadata": {
    "attributes": {
     "classes": [
      "csharp"
     ],
     "id": ""
    }
   },
   "outputs": [
    {
     "data": {
      "text/html": [
       "<font style=\"colorBlack\">The answer is not greater than 10<br /></font>"
      ],
      "text/plain": [
       "The answer is not greater than 10\n",
       "\n"
      ]
     },
     "execution_count": 28,
     "metadata": {},
     "output_type": "execute_result"
    }
   ],
   "source": [
    "int a = 5;\n",
    "int b = 3;\n",
    "if (a + b > 10)\n",
    "{\n",
    "    Console.WriteLine(\"The answer is greater than 10\");\n",
    "}\n",
    "else\n",
    "{\n",
    "    Console.WriteLine(\"The answer is not greater than 10\");\n",
    "}"
   ]
  },
  {
   "cell_type": "markdown",
   "metadata": {},
   "source": [
    "> Through the rest of this section, the code samples all include the braces,\n",
    "> following accepted practices.\n",
    "\n",
    "You can test more complicated conditions."
   ]
  },
  {
   "cell_type": "code",
   "execution_count": 30,
   "metadata": {
    "attributes": {
     "classes": [
      "csharp"
     ],
     "id": ""
    }
   },
   "outputs": [
    {
     "data": {
      "text/html": [
       "<font style=\"colorBlack\">The answer is greater than 10<br />And the first number is greater than the second<br /></font>"
      ],
      "text/plain": [
       "The answer is greater than 10\n",
       "And the first number is greater than the second\n",
       "\n"
      ]
     },
     "execution_count": 30,
     "metadata": {},
     "output_type": "execute_result"
    }
   ],
   "source": [
    "int c = 4;\n",
    "\n",
    "if ((a + b + c > 10) && (a > b))\n",
    "{\n",
    "    Console.WriteLine(\"The answer is greater than 10\");\n",
    "    Console.WriteLine(\"And the first number is greater than the second\");\n",
    "}\n",
    "else\n",
    "{\n",
    "    Console.WriteLine(\"The answer is not greater than 10\");\n",
    "    Console.WriteLine(\"Or the first number is not greater than the second\");\n",
    "}"
   ]
  },
  {
   "cell_type": "markdown",
   "metadata": {},
   "source": [
    "The `&&` represents \"and\". It means both conditions must be true to execute\n",
    "the statement in the true branch.  These examples also show that you can have multiple\n",
    "statements in each conditional branch, provided you enclose them in `{` and `}`.\n",
    "\n",
    "You can also use  `||` to represent \"or\". Add the following code after what you've written so far:"
   ]
  },
  {
   "cell_type": "code",
   "execution_count": 31,
   "metadata": {
    "attributes": {
     "classes": [
      "csharp"
     ],
     "id": ""
    }
   },
   "outputs": [
    {
     "data": {
      "text/html": [
       "<font style=\"colorBlack\">The answer is greater than 10<br />Or the first number is greater than the second<br /></font>"
      ],
      "text/plain": [
       "The answer is greater than 10\n",
       "Or the first number is greater than the second\n",
       "\n"
      ]
     },
     "execution_count": 31,
     "metadata": {},
     "output_type": "execute_result"
    }
   ],
   "source": [
    "if ((a + b + c > 10) || (a > b))\n",
    "{\n",
    "    Console.WriteLine(\"The answer is greater than 10\");\n",
    "    Console.WriteLine(\"Or the first number is greater than the second\");\n",
    "}\n",
    "else\n",
    "{\n",
    "    Console.WriteLine(\"The answer is not greater than 10\");\n",
    "    Console.WriteLine(\"And the first number is not greater than the second\");\n",
    "}"
   ]
  },
  {
   "cell_type": "markdown",
   "metadata": {},
   "source": [
    "You've finished the first step. Name your method to `ExploreIf` and write a new class named Program. When you have finished, your code should look like this:"
   ]
  },
  {
   "cell_type": "code",
   "execution_count": 32,
   "metadata": {
    "attributes": {
     "classes": [
      "csharp"
     ],
     "id": ""
    }
   },
   "outputs": [
    {
     "data": {
      "text/html": [
       "<font style=\"colorBlack\">The answer is not greater than 10<br />The answer is greater than 10<br />And the first number is greater than the second<br />The answer is greater than 10<br />Or the first number is greater than the second<br /></font>"
      ],
      "text/plain": [
       "The answer is not greater than 10\n",
       "The answer is greater than 10\n",
       "And the first number is greater than the second\n",
       "The answer is greater than 10\n",
       "Or the first number is greater than the second\n",
       "\n"
      ]
     },
     "execution_count": 32,
     "metadata": {},
     "output_type": "execute_result"
    }
   ],
   "source": [
    "using System;\n",
    "\n",
    "\n",
    "class Program\n",
    "{\n",
    "    public static void ExploreIf()\n",
    "    {\n",
    "        int a = 5;\n",
    "        int b = 3;\n",
    "        int c = 4;\n",
    "        if (a + b > 10)\n",
    "        {\n",
    "            Console.WriteLine(\"The answer is greater than 10\");\n",
    "        }\n",
    "        else\n",
    "        {\n",
    "            Console.WriteLine(\"The answer is not greater than 10\");\n",
    "        }\n",
    "\n",
    "        if ((a + b + c > 10) && (a > b))\n",
    "        {\n",
    "            Console.WriteLine(\"The answer is greater than 10\");\n",
    "            Console.WriteLine(\"And the first number is greater than the second\");\n",
    "        }\n",
    "        else\n",
    "        {\n",
    "            Console.WriteLine(\"The answer is not greater than 10\");\n",
    "            Console.WriteLine(\"Or the first number is not greater than the second\");\n",
    "        }\n",
    "\n",
    "        if ((a + b + c > 10) || (a > b))\n",
    "        {\n",
    "            Console.WriteLine(\"The answer is greater than 10\");\n",
    "            Console.WriteLine(\"Or the first number is greater than the second\");\n",
    "        }\n",
    "        else\n",
    "        {\n",
    "            Console.WriteLine(\"The answer is not greater than 10\");\n",
    "            Console.WriteLine(\"And the first number is not greater than the second\");\n",
    "        }            \n",
    "    }\n",
    "}\n",
    "\n",
    "Program.ExploreIf();"
   ]
  },
  {
   "cell_type": "markdown",
   "metadata": {},
   "source": [
    "## Use loops to repeat operations\n",
    "\n",
    "In this section you use **loops** to repeat statements. Try\n",
    "this code in your `Main` method:"
   ]
  },
  {
   "cell_type": "code",
   "execution_count": 33,
   "metadata": {
    "attributes": {
     "classes": [
      "csharp"
     ],
     "id": ""
    }
   },
   "outputs": [
    {
     "data": {
      "text/html": [
       "<font style=\"colorBlack\">Hello World! The counter is 0<br />Hello World! The counter is 1<br />Hello World! The counter is 2<br />Hello World! The counter is 3<br />Hello World! The counter is 4<br />Hello World! The counter is 5<br />Hello World! The counter is 6<br />Hello World! The counter is 7<br />Hello World! The counter is 8<br />Hello World! The counter is 9<br /></font>"
      ],
      "text/plain": [
       "Hello World! The counter is 0\n",
       "Hello World! The counter is 1\n",
       "Hello World! The counter is 2\n",
       "Hello World! The counter is 3\n",
       "Hello World! The counter is 4\n",
       "Hello World! The counter is 5\n",
       "Hello World! The counter is 6\n",
       "Hello World! The counter is 7\n",
       "Hello World! The counter is 8\n",
       "Hello World! The counter is 9\n",
       "\n"
      ]
     },
     "execution_count": 33,
     "metadata": {},
     "output_type": "execute_result"
    }
   ],
   "source": [
    "int counter = 0;\n",
    "while (counter < 10)\n",
    "{\n",
    "    Console.WriteLine($\"Hello World! The counter is {counter}\");\n",
    "    counter++;\n",
    "}"
   ]
  },
  {
   "cell_type": "markdown",
   "metadata": {},
   "source": [
    "The `while` statement checks a condition and executes the statement or statement block\n",
    "following the `while`. It repeatedly checks the condition and\n",
    "executing those statements until the condition is false.\n",
    "\n",
    "There's one other new operator in this example. The `++` after\n",
    "the `counter` variable is the **increment** operator. It adds 1\n",
    "to the value of `counter` and stores that value in the `counter` variable.\n",
    "\n",
    "> Make sure that the `while` loop condition changes to\n",
    "> false as you execute the code. Otherwise, you create an\n",
    "> **infinite loop** where your program never ends.\n",
    "\n",
    "The `while` loop tests the condition before executing the code\n",
    "following the `while`. The `do` ... `while` loop executes the \n",
    "code first, and then checks the condition. The do while loop is shown in the following code:"
   ]
  },
  {
   "cell_type": "code",
   "execution_count": 34,
   "metadata": {
    "attributes": {
     "classes": [
      "csharp"
     ],
     "id": ""
    }
   },
   "outputs": [
    {
     "data": {
      "text/html": [
       "<font style=\"colorBlack\">Hello World! The counter is 0<br />Hello World! The counter is 1<br />Hello World! The counter is 2<br />Hello World! The counter is 3<br />Hello World! The counter is 4<br />Hello World! The counter is 5<br />Hello World! The counter is 6<br />Hello World! The counter is 7<br />Hello World! The counter is 8<br />Hello World! The counter is 9<br /></font>"
      ],
      "text/plain": [
       "Hello World! The counter is 0\n",
       "Hello World! The counter is 1\n",
       "Hello World! The counter is 2\n",
       "Hello World! The counter is 3\n",
       "Hello World! The counter is 4\n",
       "Hello World! The counter is 5\n",
       "Hello World! The counter is 6\n",
       "Hello World! The counter is 7\n",
       "Hello World! The counter is 8\n",
       "Hello World! The counter is 9\n",
       "\n"
      ]
     },
     "execution_count": 34,
     "metadata": {},
     "output_type": "execute_result"
    }
   ],
   "source": [
    "counter = 0;\n",
    "do\n",
    "{\n",
    "    Console.WriteLine($\"Hello World! The counter is {counter}\");\n",
    "    counter++;\n",
    "} while (counter < 10);"
   ]
  },
  {
   "cell_type": "markdown",
   "metadata": {},
   "source": [
    "This `do` loop and the earlier `while` loop produce the same output.\n",
    "\n",
    "## Work with the for loop\n",
    "\n",
    "The **for** loop is commonly used in C#."
   ]
  },
  {
   "cell_type": "code",
   "execution_count": 35,
   "metadata": {
    "attributes": {
     "classes": [
      "csharp"
     ],
     "id": ""
    }
   },
   "outputs": [
    {
     "data": {
      "text/html": [
       "<font style=\"colorBlack\">Hello World! The index is 0<br />Hello World! The index is 1<br />Hello World! The index is 2<br />Hello World! The index is 3<br />Hello World! The index is 4<br />Hello World! The index is 5<br />Hello World! The index is 6<br />Hello World! The index is 7<br />Hello World! The index is 8<br />Hello World! The index is 9<br /></font>"
      ],
      "text/plain": [
       "Hello World! The index is 0\n",
       "Hello World! The index is 1\n",
       "Hello World! The index is 2\n",
       "Hello World! The index is 3\n",
       "Hello World! The index is 4\n",
       "Hello World! The index is 5\n",
       "Hello World! The index is 6\n",
       "Hello World! The index is 7\n",
       "Hello World! The index is 8\n",
       "Hello World! The index is 9\n",
       "\n"
      ]
     },
     "execution_count": 35,
     "metadata": {},
     "output_type": "execute_result"
    }
   ],
   "source": [
    "for(int index = 0; index < 10; index++)\n",
    "{\n",
    "    Console.WriteLine($\"Hello World! The index is {index}\");\n",
    "} "
   ]
  },
  {
   "cell_type": "markdown",
   "metadata": {},
   "source": [
    "This does the same work as the `while` loop and the `do` loop you've\n",
    "already used. The `for` statement has three parts that control\n",
    "how it works.\n",
    "\n",
    "The first part is the **for initializer**: `for index = 0;` declares\n",
    "that `index` is the loop variable, and sets its initial value to `0`.\n",
    "\n",
    "The middle part is the **for condition**: `index < 10` declares that this\n",
    "`for` loop continues to execute as long as the value of counter is less than 10.\n",
    "\n",
    "The final part is the **for iterator**: `index++` specifies how to modify the loop\n",
    "variable after executing the block following the `for` statement. Here, it specifies\n",
    "that `index` should be incremented by 1 each time the block executes.\n",
    "\n",
    "Experiment with these yourself. Try each of the following:\n",
    "\n",
    "- Change the initializer to start at a different value.\n",
    "- Change the condition to stop at a different value.\n",
    "\n",
    "When you're done, let's move on to write some code yourself to\n",
    "use what you've learned.\n",
    "\n",
    "## Combine branches and loops\n",
    "\n",
    "Now that you've seen the `if` statement and the looping\n",
    "constructs in the C# language, see if you can write C# code to\n",
    "find the sum of all integers 1 through 20 that are divisible\n",
    "by 3.  Here are a few hints:\n",
    "\n",
    "- The `%` operator gives you the remainder of a division operation.\n",
    "- The `if` statement gives you the condition to see if a number should be part of the sum.\n",
    "- The `for` loop can help you repeat a series of steps for all the numbers 1 through 20.\n",
    "\n",
    "Try it yourself. Then check how you did. You should get 63 for an answer. You can see one possible answer by\n",
    "[viewing the completed code on GitHub](https://github.com/dotnet/samples/tree/master/csharp/branches-quickstart/Program.cs#L46-L54).\n",
    "\n",
    "You've completed the \"branches and loops\" section.\n",
    "\n",
    "You can continue with\n",
    "the [String interpolation](interpolated-strings-local.md) section in\n",
    "your own development environment.\n",
    "\n",
    "You can learn more about these concepts in these topics:\n",
    "\n",
    "[If and else statement](../language-reference/keywords/if-else.md)  \n",
    "[While statement](../language-reference/keywords/while.md)  \n",
    "[Do statement](../language-reference/keywords/do.md)  \n",
    "[For statement](../language-reference/keywords/for.md)"
   ]
  },
  {
   "cell_type": "markdown",
   "metadata": {},
   "source": [
    "# String interpolation\n",
    "\n",
    "This section teaches you how to use C# [string interpolation](../language-reference/tokens/interpolated.md) to insert values into a single result string. You write C# code and see the results of compiling and running it. The section contains a series of lessons that show you how to insert values into a string and format those values in different ways.\n",
    "\n",
    "## Create an interpolated string\n",
    "\n",
    "Create a directory named **interpolated**. Make it the current directory and run the following command from a new console window:"
   ]
  },
  {
   "cell_type": "markdown",
   "metadata": {},
   "source": [
    "Open **Program.cs** in your favorite editor, and replace the line `Console.WriteLine(\"Hello World!\");` with the following code, where you replace `<name>` with your name:"
   ]
  },
  {
   "cell_type": "code",
   "execution_count": 36,
   "metadata": {
    "attributes": {
     "classes": [
      "csharp"
     ],
     "id": ""
    }
   },
   "outputs": [
    {
     "data": {
      "text/html": [
       "<font style=\"colorBlack\">Hello, &lt;name&gt;. It&#39;s a pleasure to meet you!<br /></font>"
      ],
      "text/plain": [
       "Hello, <name>. It's a pleasure to meet you!\n",
       "\n"
      ]
     },
     "execution_count": 36,
     "metadata": {},
     "output_type": "execute_result"
    }
   ],
   "source": [
    "var name = \"<name>\";\n",
    "Console.WriteLine($\"Hello, {name}. It's a pleasure to meet you!\");"
   ]
  },
  {
   "cell_type": "markdown",
   "metadata": {},
   "source": [
    "When you run the program, it displays a single string that includes your name in the greeting. The string included in the <xref:System.Console.WriteLine%2A> method call is an *interpolated string*. It's a kind of template that lets you construct a single string (called the *result string*) from a string that includes embedded code. Interpolated strings are particularly useful for inserting values into a string or concatenating (joining together) strings.\n",
    "\n",
    "This simple example contains the two elements that every interpolated string must have:\n",
    "\n",
    "- A string literal that begins with the `$` character before its opening quotation mark character. There can't be any spaces between the `$` symbol and the quotation mark character. (If you'd like to see what happens if you include one, insert a space after the `$` character, save the file, and run the program again by typing `dotnet run` in the console window. The C# compiler displays an error message, \"error CS1056: Unexpected character '$'\".)\n",
    "\n",
    "- One or more *interpolated expressions*. An interpolated expression is indicated by an opening and closing brace (`{` and `}`). You can put any C# expression that returns a value (including `null`) inside the braces.\n",
    "\n",
    "Let's try a few more string interpolation examples with some other data types.\n",
    "\n",
    "## Include different data types\n",
    "\n",
    "In the previous section, you used string interpolation to insert one string inside of another. The result of an interpolated expression can be of any data type, though. Let's include values of various data types in an interpolated string.\n",
    "\n",
    "In the following example, first, we define a [class](../programming-guide/classes-and-structs/classes.md) data type `Vegetable` that has the `Name` [property](../properties.md) and the `ToString` [method](../methods.md), which [overrides](../language-reference/keywords/override.md) the behavior of the <xref:System.Object.ToString?displayProperty=nameWithType> method. The [`public` access modifier](../language-reference/keywords/public.md) makes that method available to any client code to get the string representation of a `Vegetable` instance. In the example the `Vegetable.ToString` method returns the value of the `Name` property that is initialized at the `Vegetable` [constructor](../programming-guide/classes-and-structs/constructors.md):"
   ]
  },
  {
   "cell_type": "markdown",
   "metadata": {},
   "source": [
    "Then we create an instance of the `Vegetable` class by using [`new` keyword](../language-reference/keywords/new-operator.md) and providing a name parameter for the constructor `Vegetable`:"
   ]
  },
  {
   "cell_type": "code",
   "execution_count": 39,
   "metadata": {
    "attributes": {
     "classes": [
      "csharp"
     ],
     "id": ""
    }
   },
   "outputs": [],
   "source": [
    "var item = new Vegetable(\"eggplant\");"
   ]
  },
  {
   "cell_type": "markdown",
   "metadata": {},
   "source": [
    "Finally, we include the `item` variable into an interpolated string that also contains a <xref:System.DateTime> value, a <xref:System.Decimal> value, and a `Unit` [enumeration](../programming-guide/enumeration-types.md) value. Replace all of the C# code in your editor with the following code:"
   ]
  },
  {
   "cell_type": "code",
   "execution_count": 40,
   "metadata": {
    "attributes": {
     "classes": [
      "csharp"
     ],
     "id": ""
    }
   },
   "outputs": [
    {
     "data": {
      "text/html": [
       "<font style=\"colorBlack\">On 13/06/2018 20:55:15, the price of eggplant was 1.99 per item.<br /></font>"
      ],
      "text/plain": [
       "On 13/06/2018 20:55:15, the price of eggplant was 1.99 per item.\n",
       "\n"
      ]
     },
     "execution_count": 40,
     "metadata": {},
     "output_type": "execute_result"
    }
   ],
   "source": [
    "using System;\n",
    "\n",
    "public class Vegetable\n",
    "{\n",
    "   public Vegetable(string name) => Name = name;\n",
    "   \n",
    "   public string Name { get; }\n",
    "   \n",
    "   public override string ToString() => Name;\n",
    "}\n",
    "\n",
    "public enum Unit { item, pound, ounce, dozen };\n",
    "\n",
    "\n",
    "var item = new Vegetable(\"eggplant\");\n",
    "var date = DateTime.Now;\n",
    "var price = 1.99m;\n",
    "var unit = Unit.item;\n",
    "Console.WriteLine($\"On {date}, the price of {item} was {price} per {unit}.\");"
   ]
  },
  {
   "cell_type": "markdown",
   "metadata": {},
   "source": [
    "Note that the interpolated expression `item` in the interpolated string resolves to the text \"eggplant\" in the result string. That's because, when the type of the expression result is not a string, the result is resolved to a string in the following way:\n",
    "\n",
    "- If the interpolated expression evaluates to `null`, an empty string (\"\", or <xref:System.String.Empty?displayProperty=nameWithType>) is used.\n",
    "\n",
    "- If the interpolated expression doesn't evaluate to `null`, typically the `ToString` method of the result type is called. You can test this by updating the implementation of the `Vegetable.ToString` method. You might not even need to implement the `ToString` method since every type has some implementation of this method. To test this, comment out the definition of the `Vegetable.ToString` method in the example (to do that, put a comment symbol, `//`, in front of it). In the output, the string \"eggplant\" is replaced by the fully qualified type name (\"Vegetable\" in this example), which is the default behavior of the <xref:System.Object.ToString?displayProperty=nameWithType> method. The default behavior of the `ToString` method for an enumeration value is to return the string representation of the value.\n",
    "\n",
    "In the output from this example, the date is too precise (the price of eggplant doesn't change every second), and the price value doesn't indicate a unit of currency. In the next section, you'll learn how to fix those issues by controlling the format of string representations of the expression results.\n",
    "\n",
    "## Control the formatting of interpolated expressions\n",
    "\n",
    "In the previous section, two poorly formatted strings were inserted into the result string. One was a date and time value for which only the date was appropriate. The second was a price that didn't indicate its unit of currency. Both issues are easy to address. String interpolation lets you specify *format strings* that control the formatting of particular types. Modify the call to `Console.WriteLine` from the previous example to include the format strings for the date and price expressions as shown in the following line:"
   ]
  },
  {
   "cell_type": "code",
   "execution_count": 41,
   "metadata": {
    "attributes": {
     "classes": [
      "csharp"
     ],
     "id": ""
    }
   },
   "outputs": [
    {
     "data": {
      "text/html": [
       "<font style=\"colorBlack\">On 13/06/2018, the price of eggplant was &#163;1.99 per item.<br /></font>"
      ],
      "text/plain": [
       "On 13/06/2018, the price of eggplant was £1.99 per item.\n",
       "\n"
      ]
     },
     "execution_count": 41,
     "metadata": {},
     "output_type": "execute_result"
    }
   ],
   "source": [
    "Console.WriteLine($\"On {date:d}, the price of {item} was {price:C2} per {unit}.\");"
   ]
  },
  {
   "cell_type": "markdown",
   "metadata": {},
   "source": [
    "You specify a format string by following the interpolated expression with a colon (\":\") and the format string. \"d\" is a [standard date and time format string](../../standard/base-types/standard-date-and-time-format-strings.md#the-short-date-d-format-specifier) that represents the short date format. \"C2\" is a  [standard numeric format string](../../standard/base-types/standard-numeric-format-strings.md#the-currency-c-format-specifier) that represents a number as a currency value with two digits after the decimal point.\n",
    "\n",
    "A number of types in the .NET libraries support a predefined set of format strings. These include all the numeric types and the date and time types. For a complete list of types that support format strings, see [Format Strings and .NET Class Library Types](../../standard/base-types/formatting-types.md#stringRef) in the [Formatting Types in .NET](../../standard/base-types/formatting-types.md) article.\n",
    "\n",
    "Try modifying the format strings in your text editor and, each time you make a change, rerun the program to see how the changes affect the formatting of the date and time and the numeric value. Change the \"d\" in `{date:d}` to \"t\" (to display the short time format), \"y\" (to display the year and month), and \"yyyy\" (to display the year as a four-digit number). Change the \"C2\" in `{price:C2}` to \"e\" (for exponential notation) and \"F3\" (for a numeric value with three digits after the decimal point).\n",
    "\n",
    "In addition to controlling formatting, you can also control the field width and alignment of the formatted strings that are included in the result string. In the next section, you'll learn how to do this.\n",
    "\n",
    "## Control the field width and alignment of interpolated expressions\n",
    "\n",
    "Ordinarily, when the result of an interpolated expression is formatted to string, that string is included in a result string without leading or trailing spaces. Particularly when you work with a set of data, being able to control a field width and text alignment helps to produce a more readable output. To see this, replace all the code in your text editor with the following code, then run the cell to execute the program:"
   ]
  },
  {
   "cell_type": "code",
   "execution_count": 42,
   "metadata": {
    "attributes": {
     "classes": [
      "csharp"
     ],
     "id": ""
    }
   },
   "outputs": [
    {
     "data": {
      "text/html": [
       "<font style=\"colorBlack\">Author and Title List<br />|Author                   |                         Title|<br />|Doyle, Arthur Conan      |Hound of the Baskervilles, The|<br />|London, Jack             |         Call of the Wild, The|<br />|Shakespeare, William     |                  Tempest, The|<br /></font>"
      ],
      "text/plain": [
       "Author and Title List\n",
       "\n",
       "|Author                   |                         Title|\n",
       "|Doyle, Arthur Conan      |Hound of the Baskervilles, The|\n",
       "|London, Jack             |         Call of the Wild, The|\n",
       "|Shakespeare, William     |                  Tempest, The|\n",
       "\n"
      ]
     },
     "execution_count": 42,
     "metadata": {},
     "output_type": "execute_result"
    }
   ],
   "source": [
    "using System;\n",
    "using System.Collections.Generic;\n",
    "\n",
    "var titles = new Dictionary<string, string>()\n",
    "{\n",
    "  [\"Doyle, Arthur Conan\"] = \"Hound of the Baskervilles, The\",\n",
    "  [\"London, Jack\"] = \"Call of the Wild, The\",\n",
    "  [\"Shakespeare, William\"] = \"Tempest, The\"\n",
    "};\n",
    "\n",
    "Console.WriteLine(\"Author and Title List\");\n",
    "Console.WriteLine();\n",
    "Console.WriteLine($\"|{\"Author\",-25}|{\"Title\",30}|\");\n",
    "\n",
    "foreach (var title in titles)\n",
    "    Console.WriteLine($\"|{title.Key,-25}|{title.Value,30}|\");"
   ]
  },
  {
   "cell_type": "markdown",
   "metadata": {},
   "source": [
    "The names of authors are left-aligned, and the titles they wrote are right-aligned. You specify the alignment by adding a comma (\",\") after an interpolated expression and designating the *minimum* field width. If the specified value is a positive number, the field is right-aligned. If it is a negative number, the field is left-aligned.\n",
    "\n",
    "Try removing the negative signs from the `{\"Author\",-25}` and `{title.Key,-25}` code and run the example again, as the following code does:"
   ]
  },
  {
   "cell_type": "code",
   "execution_count": 43,
   "metadata": {
    "attributes": {
     "classes": [
      "csharp"
     ],
     "id": ""
    }
   },
   "outputs": [
    {
     "data": {
      "text/html": [
       "<font style=\"colorBlack\">|                   Author|                         Title|<br />|      Doyle, Arthur Conan|Hound of the Baskervilles, The|<br />|             London, Jack|         Call of the Wild, The|<br />|     Shakespeare, William|                  Tempest, The|<br /></font>"
      ],
      "text/plain": [
       "|                   Author|                         Title|\n",
       "|      Doyle, Arthur Conan|Hound of the Baskervilles, The|\n",
       "|             London, Jack|         Call of the Wild, The|\n",
       "|     Shakespeare, William|                  Tempest, The|\n",
       "\n"
      ]
     },
     "execution_count": 43,
     "metadata": {},
     "output_type": "execute_result"
    }
   ],
   "source": [
    "Console.WriteLine($\"|{\"Author\",25}|{\"Title\",30}|\");\n",
    "foreach (var title in titles)\n",
    "   Console.WriteLine($\"|{title.Key,25}|{title.Value,30}|\");"
   ]
  },
  {
   "cell_type": "markdown",
   "metadata": {},
   "source": [
    "This time, the author information is right-aligned.\n",
    "\n",
    "You can combine an alignment specifier and a format string for a single interpolated expression. To do that, specify the alignment first, followed by a colon and the format string. Replace all of the code inside the `Main` method with the following code, which displays three formatted strings with defined field widths. Then run the program by entering the `dotnet run` command."
   ]
  },
  {
   "cell_type": "code",
   "execution_count": 44,
   "metadata": {
    "attributes": {
     "classes": [
      "csharp"
     ],
     "id": ""
    }
   },
   "outputs": [
    {
     "data": {
      "text/html": [
       "<font style=\"colorBlack\">[13/06/2018          ] Hour [20        ] [       1,063.34] feet<br /></font>"
      ],
      "text/plain": [
       "[13/06/2018          ] Hour [20        ] [       1,063.34] feet\n",
       "\n"
      ]
     },
     "execution_count": 44,
     "metadata": {},
     "output_type": "execute_result"
    }
   ],
   "source": [
    "Console.WriteLine($\"[{DateTime.Now,-20:d}] Hour [{DateTime.Now,-10:HH}] [{1063.342,15:N2}] feet\");"
   ]
  },
  {
   "cell_type": "markdown",
   "metadata": {},
   "source": [
    "You've completed the string interpolation section.\n",
    "\n",
    "You can continue with the [List collection](arrays-and-collections.md) section in your own development environment.\n",
    "\n",
    "For more information, see the [String interpolation](../language-reference/tokens/interpolated.md) topic and the [String interpolation in C#](../tutorials/string-interpolation.md) tutorial."
   ]
  },
  {
   "cell_type": "markdown",
   "metadata": {},
   "source": [
    "# C#: Collections\n",
    "\n",
    "This section provides an introduction to the C# language and the basics of the <xref:System.Collections.Generic.List%601>\n",
    "class.\n",
    "\n",
    "This section expects you to have a machine you can use for development. The .NET topic [Get Started in 10 minutes](https://www.microsoft.com/net/core) has instructions for setting up your local development environment on Mac, PC or Linux. \n",
    "\n",
    "## A basic list example"
   ]
  },
  {
   "cell_type": "code",
   "execution_count": 45,
   "metadata": {
    "attributes": {
     "classes": [
      "csharp"
     ],
     "id": ""
    }
   },
   "outputs": [
    {
     "data": {
      "text/html": [
       "<font style=\"colorBlack\">Hello &lt;NAME&gt;!<br />Hello ANA!<br />Hello FELIPE!<br /></font>"
      ],
      "text/plain": [
       "Hello <NAME>!\n",
       "Hello ANA!\n",
       "Hello FELIPE!\n",
       "\n"
      ]
     },
     "execution_count": 45,
     "metadata": {},
     "output_type": "execute_result"
    }
   ],
   "source": [
    "using System;\n",
    "using System.Collections.Generic;\n",
    "\n",
    "var names = new List<string> { \"<name>\", \"Ana\", \"Felipe\" };\n",
    "foreach (var name in names)\n",
    "{\n",
    "    Console.WriteLine($\"Hello {name.ToUpper()}!\");\n",
    "}"
   ]
  },
  {
   "cell_type": "markdown",
   "metadata": {},
   "source": [
    "Replace `<name>` with your name.\n",
    "\n",
    "You've just created a list of strings, added three names to that list, and printed out the names in all CAPS. You're using concepts that you've learned in earlier sections to loop through the list.\n",
    "\n",
    "The code to display names makes use of the [string interpolation](../language-reference/tokens/interpolated.md) feature.  When you precede a `string` with the `$` character, you can embed C# code in the string declaration. The actual string replaces that C# code with the value it generates. In this example, it replaces the `{name.ToUpper()}` with each name, converted to capital letters, because you called the <xref:System.String.ToUpper%2A> method.\n",
    "\n",
    "Let's keep exploring.\n",
    "\n",
    "## Modify list contents\n",
    "\n",
    "The collection you created uses the <xref:System.Collections.Generic.List%601> type. This type stores sequences of elements. You specify the type of the elements between the angle brackets.\n",
    "\n",
    "One important aspect of this <xref:System.Collections.Generic.List%601> type is that it can grow or shrink, enabling you to add or remove elements."
   ]
  },
  {
   "cell_type": "code",
   "execution_count": 46,
   "metadata": {
    "attributes": {
     "classes": [
      "csharp"
     ],
     "id": ""
    }
   },
   "outputs": [
    {
     "data": {
      "text/html": [
       "<font style=\"colorBlack\">Hello &lt;NAME&gt;!<br />Hello FELIPE!<br />Hello MARIA!<br />Hello BILL!<br /></font>"
      ],
      "text/plain": [
       "\n",
       "Hello <NAME>!\n",
       "Hello FELIPE!\n",
       "Hello MARIA!\n",
       "Hello BILL!\n",
       "\n"
      ]
     },
     "execution_count": 46,
     "metadata": {},
     "output_type": "execute_result"
    }
   ],
   "source": [
    "Console.WriteLine();\n",
    "names.Add(\"Maria\");\n",
    "names.Add(\"Bill\");\n",
    "names.Remove(\"Ana\");\n",
    "foreach (var name in names)\n",
    "{\n",
    "    Console.WriteLine($\"Hello {name.ToUpper()}!\");\n",
    "}"
   ]
  },
  {
   "cell_type": "markdown",
   "metadata": {},
   "source": [
    "You've added two more names to the end of the list. You've also removed one as well. Save the file, and type `dotnet run` to try it.\n",
    "\n",
    "The <xref:System.Collections.Generic.List%601> enables you to reference individual items by **index** as well. You place the index between `[` and `]` tokens following the list name. C# uses 0 for the first index. Add this code directly below the code you just added and try it:"
   ]
  },
  {
   "cell_type": "code",
   "execution_count": 47,
   "metadata": {
    "attributes": {
     "classes": [
      "csharp"
     ],
     "id": ""
    }
   },
   "outputs": [
    {
     "data": {
      "text/html": [
       "<font style=\"colorBlack\">My name is &lt;name&gt;<br />I&#39;ve added Maria and Bill to the list<br /></font>"
      ],
      "text/plain": [
       "My name is <name>\n",
       "I've added Maria and Bill to the list\n",
       "\n"
      ]
     },
     "execution_count": 47,
     "metadata": {},
     "output_type": "execute_result"
    }
   ],
   "source": [
    "Console.WriteLine($\"My name is {names[0]}\");\n",
    "Console.WriteLine($\"I've added {names[2]} and {names[3]} to the list\");"
   ]
  },
  {
   "cell_type": "markdown",
   "metadata": {},
   "source": [
    "You cannot access an index beyond the end of the list. Remember that indices start at 0, so the largest valid index is one less than the number of items in the list. You can check how long the list is using the <xref:System.Collections.Generic.List%601.Count%2A> property. We will add the following code."
   ]
  },
  {
   "cell_type": "code",
   "execution_count": 48,
   "metadata": {
    "attributes": {
     "classes": [
      "csharp"
     ],
     "id": ""
    }
   },
   "outputs": [
    {
     "data": {
      "text/html": [
       "<font style=\"colorBlack\">The list has 4 people in it<br />The name Felipe is at index 1<br />When an item is not found, IndexOf returns -1<br /></font>"
      ],
      "text/plain": [
       "The list has 4 people in it\n",
       "The name Felipe is at index 1\n",
       "When an item is not found, IndexOf returns -1\n",
       "\n"
      ]
     },
     "execution_count": 48,
     "metadata": {},
     "output_type": "execute_result"
    }
   ],
   "source": [
    "Console.WriteLine($\"The list has {names.Count} people in it\");\n",
    "\n",
    "// Save the file, and type `dotnet run` again to see the results.\n",
    "//\n",
    "// ## Search and sort lists\n",
    "//\n",
    "// Our samples use relatively small lists, but your applications may often create lists with many more elements, sometimes numbering in the thousands. To find elements in these larger collections, you need to search the list for different items. The <xref:System.Collections.Generic.List%601.IndexOf%2A> method searches for an item and returns the index of the item. Add this code to the bottom of your `Main` method:\n",
    "\n",
    "var index = names.IndexOf(\"Felipe\");\n",
    "if (index == -1)\n",
    "{\n",
    "    Console.WriteLine($\"When an item is not found, IndexOf returns {index}\");\n",
    "} else\n",
    "{\n",
    "    Console.WriteLine($\"The name {names[index]} is at index {index}\");\n",
    "}\n",
    "\n",
    "index = names.IndexOf(\"Not Found\");\n",
    "if (index == -1)\n",
    "{\n",
    "    Console.WriteLine($\"When an item is not found, IndexOf returns {index}\");\n",
    "} else\n",
    "{\n",
    "    Console.WriteLine($\"The name {names[index]} is at index {index}\");\n",
    "\n",
    "}"
   ]
  },
  {
   "cell_type": "markdown",
   "metadata": {},
   "source": [
    "The items in your list can be sorted as well. The <xref:System.Collections.Generic.List%601.Sort%2A> method sorts all the items in the list in their normal order (alphabetically in the case of strings). Add this code to the bottom of our method:"
   ]
  },
  {
   "cell_type": "code",
   "execution_count": 49,
   "metadata": {
    "attributes": {
     "classes": [
      "csharp"
     ],
     "id": ""
    }
   },
   "outputs": [
    {
     "data": {
      "text/html": [
       "<font style=\"colorBlack\">Hello &lt;NAME&gt;!<br />Hello BILL!<br />Hello FELIPE!<br />Hello MARIA!<br /></font>"
      ],
      "text/plain": [
       "Hello <NAME>!\n",
       "Hello BILL!\n",
       "Hello FELIPE!\n",
       "Hello MARIA!\n",
       "\n"
      ]
     },
     "execution_count": 49,
     "metadata": {},
     "output_type": "execute_result"
    }
   ],
   "source": [
    "names.Sort();\n",
    "foreach (var name in names)\n",
    "{\n",
    "    Console.WriteLine($\"Hello {name.ToUpper()}!\");\n",
    "}"
   ]
  },
  {
   "cell_type": "markdown",
   "metadata": {},
   "source": [
    "Before you start the next section, let's move the current code into a separate method. That makes it easier to start working with a new example. When you have finished, your code should look like this:"
   ]
  },
  {
   "cell_type": "code",
   "execution_count": 50,
   "metadata": {
    "attributes": {
     "classes": [
      "csharp"
     ],
     "id": ""
    }
   },
   "outputs": [
    {
     "data": {
      "text/html": [
       "<font style=\"colorBlack\">Hello &lt;NAME&gt;!<br />Hello ANA!<br />Hello FELIPE!<br />Hello &lt;NAME&gt;!<br />Hello FELIPE!<br />Hello MARIA!<br />Hello BILL!<br />My name is &lt;name&gt;<br />I&#39;ve added Maria and Bill to the list<br />The list has 4 people in it<br />The name Felipe is at index 1<br />When an item is not found, IndexOf returns -1<br />Hello &lt;NAME&gt;!<br />Hello BILL!<br />Hello FELIPE!<br />Hello MARIA!<br /></font>"
      ],
      "text/plain": [
       "Hello <NAME>!\n",
       "Hello ANA!\n",
       "Hello FELIPE!\n",
       "\n",
       "Hello <NAME>!\n",
       "Hello FELIPE!\n",
       "Hello MARIA!\n",
       "Hello BILL!\n",
       "My name is <name>\n",
       "I've added Maria and Bill to the list\n",
       "The list has 4 people in it\n",
       "The name Felipe is at index 1\n",
       "When an item is not found, IndexOf returns -1\n",
       "Hello <NAME>!\n",
       "Hello BILL!\n",
       "Hello FELIPE!\n",
       "Hello MARIA!\n",
       "\n"
      ]
     },
     "execution_count": 50,
     "metadata": {},
     "output_type": "execute_result"
    }
   ],
   "source": [
    "using System;\n",
    "using System.Collections.Generic;\n",
    "\n",
    "public static void WorkingWithStrings()\n",
    "{\n",
    "    var names = new List<string> { \"<name>\", \"Ana\", \"Felipe\" };\n",
    "    foreach (var name in names)\n",
    "    {\n",
    "        Console.WriteLine($\"Hello {name.ToUpper()}!\");\n",
    "    }\n",
    "\n",
    "    Console.WriteLine();\n",
    "    names.Add(\"Maria\");\n",
    "    names.Add(\"Bill\");\n",
    "    names.Remove(\"Ana\");\n",
    "    foreach (var name in names)\n",
    "    {\n",
    "        Console.WriteLine($\"Hello {name.ToUpper()}!\");\n",
    "    }\n",
    "\n",
    "    Console.WriteLine($\"My name is {names[0]}\");\n",
    "    Console.WriteLine($\"I've added {names[2]} and {names[3]} to the list\");\n",
    "\n",
    "    Console.WriteLine($\"The list has {names.Count} people in it\");\n",
    "\n",
    "    var index = names.IndexOf(\"Felipe\");\n",
    "    Console.WriteLine($\"The name {names[index]} is at index {index}\");\n",
    "\n",
    "    var notFound = names.IndexOf(\"Not Found\");\n",
    "    Console.WriteLine($\"When an item is not found, IndexOf returns {notFound}\");\n",
    "\n",
    "    names.Sort();\n",
    "    foreach (var name in names)\n",
    "    {\n",
    "        Console.WriteLine($\"Hello {name.ToUpper()}!\");\n",
    "    }\n",
    "}\n",
    "\n",
    "WorkingWithStrings();"
   ]
  },
  {
   "cell_type": "markdown",
   "metadata": {},
   "source": [
    "## Lists of other types\n",
    "\n",
    "You've been using the `string` type in lists so far. Let's make a <xref:System.Collections.Generic.List%601> using a different type. Let's build a set of numbers."
   ]
  },
  {
   "cell_type": "code",
   "execution_count": 51,
   "metadata": {
    "attributes": {
     "classes": [
      "csharp"
     ],
     "id": ""
    }
   },
   "outputs": [],
   "source": [
    "var fibonacciNumbers = new List<int> {1, 1};"
   ]
  },
  {
   "cell_type": "markdown",
   "metadata": {},
   "source": [
    "That creates a list of integers, and sets the first two integers to the value 1. These are the first two values of a *Fibonacci Sequence*, a sequence of numbers. Each next Fibonacci number is found by taking the sum of the previous two numbers. Add this code:"
   ]
  },
  {
   "cell_type": "code",
   "execution_count": 52,
   "metadata": {
    "attributes": {
     "classes": [
      "csharp"
     ],
     "id": ""
    }
   },
   "outputs": [
    {
     "data": {
      "text/html": [
       "<font style=\"colorBlack\">1<br />1<br />2<br /></font>"
      ],
      "text/plain": [
       "1\n",
       "1\n",
       "2\n",
       "\n"
      ]
     },
     "execution_count": 52,
     "metadata": {},
     "output_type": "execute_result"
    }
   ],
   "source": [
    "var previous = fibonacciNumbers[fibonacciNumbers.Count - 1];\n",
    "var previous2 = fibonacciNumbers[fibonacciNumbers.Count - 2];\n",
    "\n",
    "fibonacciNumbers.Add(previous + previous2);\n",
    "\n",
    "foreach(var item in fibonacciNumbers)\n",
    "    Console.WriteLine(item);"
   ]
  },
  {
   "cell_type": "markdown",
   "metadata": {},
   "source": [
    "## Challenge\n",
    "\n",
    "See if you can put together some of the concepts from this and earlier lessons. Expand on what you've built so far with Fibonacci Numbers. Try to write the code to generate the first 20 numbers in the sequence. (As a hint, the 20th Fibonacci number is 6765.)\n",
    "\n",
    "## Complete challenge\n",
    "\n",
    "You can see an example solution by [looking at the finished sample code on GitHub](https://github.com/dotnet/samples/tree/master/csharp/list-quickstart/Program.cs#L13-L23)\n",
    "\n",
    "With each iteration of the loop, you're taking the last two integers in the list, summing them, and adding that value to the list. The loop repeats until you've added 20 items to the list.\n",
    "\n",
    "Congratulations, you've completed the list section. You can continue with\n",
    "the [Introduction to classes](introduction-to-classes.md) section in\n",
    "your own development environment.\n",
    "\n",
    "You can learn more about working with the `List` type in the\n",
    "[.NET Guide](../../standard/index.md) topic on [collections](../../standard/collections/index.md). You'll also learn about many other collection types."
   ]
  },
  {
   "cell_type": "markdown",
   "metadata": {},
   "source": [
    "# Introduction to classes\n",
    "\n",
    "## Create your application"
   ]
  },
  {
   "cell_type": "markdown",
   "metadata": {},
   "source": [
    "In this section, you're going to create new types that represent a bank account. Typically developers define each class in a different text file. That makes it easier to manage as a program grows in size.  Create a new file named **BankAccount.cs** in the **classes** directory. \n",
    "\n",
    "This file will contain the definition of a ***bank account***. Object Oriented programming organizes code by creating types in the form of ***classes***. These classes contain the code that represents a specific entity. The `BankAccount` class represents a bank account. The code implements specific operations through methods and properties. In this section, the bank account supports this behavior:\n",
    "\n",
    "1. It has a 10-digit number that uniquely identifies the bank account.\n",
    "1. It has a string that stores the name or names of the owners.\n",
    "1. The balance can be retrieved.\n",
    "1. It accepts deposits.\n",
    "1. It accepts withdrawals.\n",
    "1. The initial balance must be positive.\n",
    "1. Withdrawals cannot result in a negative balance.\n",
    "\n",
    "## Define the bank account type\n",
    "\n",
    "You can start by creating the basics of a class that defines that behavior. It would look like this:"
   ]
  },
  {
   "cell_type": "code",
   "execution_count": 53,
   "metadata": {
    "attributes": {
     "classes": [
      "csharp"
     ],
     "id": ""
    }
   },
   "outputs": [],
   "source": [
    "using System;\n",
    "\n",
    "public class BankAccount\n",
    "{\n",
    "    public BankAccount(string name, decimal initialBalance)\n",
    "    {\n",
    "        this.Owner = name;\n",
    "        this.Balance = initialBalance;\n",
    "    }\n",
    "    \n",
    "    public string Number { get; }\n",
    "    public string Owner { get; set; }\n",
    "    public decimal Balance { get; }\n",
    "\n",
    "    public void MakeDeposit(decimal amount, DateTime date, string note)\n",
    "    {\n",
    "    }\n",
    "\n",
    "    public void MakeWithdrawal(decimal amount, DateTime date, string note)\n",
    "    {\n",
    "    }\n",
    "}"
   ]
  },
  {
   "cell_type": "markdown",
   "metadata": {},
   "source": [
    "`public class BankAccount` defines the class, or type, you are creating. Everything inside the `{` and `}` that follows the class declaration defines the behavior of the class. There are five ***members*** of the `BankAccount` class. The first three are ***properties***. Properties are data elements and can have code that enforces validation or other rules. The last two are ***methods***. Methods are blocks of code that perform a single function. Reading the names of each of the members should provide enough information for you or another developer to understand what the class does.\n",
    "\n",
    "## Open a new account\n",
    "\n",
    "The first feature to implement is to open a bank account. When a customer opens an account, they must supply an initial balance, and information about the owner or owners of that account. \n",
    "\n",
    "Creating a new object of the `BankAccount` type means defining a ***constructor*** that assigns those values. A ***constructor*** is a member that has the same name as the class. It is used to initialize objects of that class type. Add the following constructor to the `BankAccount` type:"
   ]
  },
  {
   "cell_type": "raw",
   "metadata": {
    "attributes": {
     "classes": [
      "csharp"
     ],
     "id": ""
    }
   },
   "source": [
    "public BankAccount(string name, decimal initialBalance)\n",
    "{\n",
    "    this.Owner = name;\n",
    "    this.Balance = initialBalance;\n",
    "}"
   ]
  },
  {
   "cell_type": "markdown",
   "metadata": {},
   "source": [
    "Constructors are called when you create an object using [`new`](../language-reference/keywords/new.md). Replace the line `Console.WriteLine(\"Hello World!\");` in ***program.cs*** with the following line (replace `<name>` with your name):"
   ]
  },
  {
   "cell_type": "code",
   "execution_count": 54,
   "metadata": {
    "attributes": {
     "classes": [
      "csharp"
     ],
     "id": ""
    }
   },
   "outputs": [
    {
     "data": {
      "text/html": [
       "<font style=\"colorBlack\">Account  was created for &lt;name&gt; with 1000 initial balance.<br /></font>"
      ],
      "text/plain": [
       "Account  was created for <name> with 1000 initial balance.\n",
       "\n"
      ]
     },
     "execution_count": 54,
     "metadata": {},
     "output_type": "execute_result"
    }
   ],
   "source": [
    "var account = new BankAccount(\"<name>\", 1000);\n",
    "Console.WriteLine($\"Account {account.Number} was created for {account.Owner} with {account.Balance} initial balance.\");"
   ]
  },
  {
   "cell_type": "markdown",
   "metadata": {},
   "source": [
    "Did you notice that the account number is blank? It's time to fix that. The account number should be assigned when the object is constructed. But it shouldn't be the responsibility of the caller to create it. The `BankAccount` class code should know how to assign new account numbers.  A simple way to do this is to start with a 10-digit number. Increment it when each new account is created. Finally, store the current account number when an object is constructed.\n",
    "\n",
    "Add the following member declaration to the `BankAccount` class:"
   ]
  },
  {
   "cell_type": "raw",
   "metadata": {
    "attributes": {
     "classes": [
      "csharp"
     ],
     "id": ""
    }
   },
   "source": [
    "private static int accountNumberSeed = 1234567890;"
   ]
  },
  {
   "cell_type": "markdown",
   "metadata": {},
   "source": [
    "This is a data member. It's `private`, which means it can only be accessed by code inside the `BankAccount` class. It's a way of separating the public responsibilities (like having an account number) from the private implementation (how account numbers are generated.) Add the following two lines to the constructor to assign the account number:"
   ]
  },
  {
   "cell_type": "raw",
   "metadata": {
    "attributes": {
     "classes": [
      "csharp"
     ],
     "id": ""
    }
   },
   "source": [
    "this.Number = accountNumberSeed.ToString();\n",
    "accountNumberSeed++;"
   ]
  },
  {
   "cell_type": "code",
   "execution_count": 55,
   "metadata": {},
   "outputs": [],
   "source": [
    "\n",
    "public class BankAccount\n",
    "{\n",
    "    private static int accountNumberSeed = 1234567890;\n",
    "    \n",
    "    public BankAccount(string name, decimal initialBalance)\n",
    "    {\n",
    "        this.Owner = name;\n",
    "        this.Balance = initialBalance;\n",
    "        this.Number = accountNumberSeed.ToString();\n",
    "        accountNumberSeed++;\n",
    "    }\n",
    "    \n",
    "    public string Number { get; }\n",
    "    public string Owner { get; set; }\n",
    "    public decimal Balance { get; }\n",
    "\n",
    "    public void MakeDeposit(decimal amount, DateTime date, string note)\n",
    "    {\n",
    "        // Try it on your own!\n",
    "        // When you are finished, you can compare your implementation with solutions :)\n",
    "    }\n",
    "\n",
    "    public void MakeWithdrawal(decimal amount, DateTime date, string note)\n",
    "    {\n",
    "        // Try it on your own!\n",
    "        // When you are finished, you can compare your implementation with solutions :)\n",
    "    }\n",
    "}"
   ]
  },
  {
   "cell_type": "markdown",
   "metadata": {},
   "source": [
    "## Create deposits and withdrawals\n",
    "\n",
    "Your bank account class needs to accept deposits and withdrawals to work correctly. Let's implement deposits and withdrawals by creating a journal of every transaction for the account. That has a few advantages over simply updating the balance on each transaction. The history can be used to audit all transactions and manage daily balances. By computing the balance from the history of all transactions when needed, any errors in a single transaction that are fixed will be correctly reflected in the balance on the next computation.\n",
    "\n",
    "Let's start by creating a new type to represent a transaction. This is a simple type that doesn't have any responsibilities. It needs a few properties.\n",
    "\n",
    "\n",
    "We will leave the implementation of the function `MakeDeposit` and `MakeWithdrawal` to the reader."
   ]
  },
  {
   "cell_type": "markdown",
   "metadata": {},
   "source": [
    "## Next Steps\n",
    "\n",
    "If you got stuck, you can see the source for this notebook [in our GitHub repo](https://github.com/dotnet/samples/tree/master/csharp/classes-quickstart/)\n",
    "\n",
    "Congratulations, you've finished every section. If you're eager to learn more, try our [tutorials](../tutorials/index.md)"
   ]
  }
 ],
 "metadata": {
  "kernelspec": {
   "display_name": "C#",
   "language": "csharp",
   "name": "csharp"
  },
  "language": "csharp",
  "language_info": {
   "name": "csharp",
   "version": "0...0...1"
  }
 },
 "nbformat": 4,
 "nbformat_minor": 2
}
